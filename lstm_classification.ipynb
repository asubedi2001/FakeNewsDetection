{
  "cells": [
    {
      "cell_type": "code",
      "execution_count": 6,
      "metadata": {
        "id": "Ozyb-vXSAMtT"
      },
      "outputs": [],
      "source": [
        "import numpy as np\n",
        "import pandas as pd\n",
        "import re\n",
        "import nltk\n",
        "import torch\n",
        "import torch.nn as nn\n",
        "from torch.utils.data import DataLoader, TensorDataset, random_split\n",
        "import torch.optim as optim\n",
        "from nltk.corpus import stopwords\n",
        "from collections import Counter\n",
        "from sklearn.preprocessing import LabelEncoder\n",
        "from sklearn.model_selection import train_test_split\n",
        "from sklearn.utils import resample\n",
        "from sklearn.metrics import precision_score, recall_score, f1_score\n",
        "import random\n",
        "import pprint\n",
        "from imblearn.over_sampling import SMOTE\n",
        "import matplotlib.pyplot as plt\n",
        "import seaborn as sns\n",
        "from sklearn.metrics import confusion_matrix, ConfusionMatrixDisplay"
      ]
    },
    {
      "cell_type": "code",
      "source": [
        "nltk.download('stopwords')\n",
        "nltk.download('punkt_tab')\n",
        "nltk.download('punkt')"
      ],
      "metadata": {
        "id": "cF0LGpIbKgBP",
        "colab": {
          "base_uri": "https://localhost:8080/"
        },
        "outputId": "a1dbe794-599a-4ae2-fe71-d98bc032e873"
      },
      "execution_count": 7,
      "outputs": [
        {
          "output_type": "stream",
          "name": "stderr",
          "text": [
            "[nltk_data] Downloading package stopwords to /root/nltk_data...\n",
            "[nltk_data]   Package stopwords is already up-to-date!\n",
            "[nltk_data] Downloading package punkt_tab to /root/nltk_data...\n",
            "[nltk_data]   Package punkt_tab is already up-to-date!\n",
            "[nltk_data] Downloading package punkt to /root/nltk_data...\n",
            "[nltk_data]   Package punkt is already up-to-date!\n"
          ]
        },
        {
          "output_type": "execute_result",
          "data": {
            "text/plain": [
              "True"
            ]
          },
          "metadata": {},
          "execution_count": 7
        }
      ]
    },
    {
      "cell_type": "markdown",
      "metadata": {
        "id": "6vGZJybiAMtV"
      },
      "source": [
        "## Read in data"
      ]
    },
    {
      "cell_type": "code",
      "source": [
        "peek = 10\n",
        "def present_list_like(name, list_like, peek=peek):\n",
        "    print(f\"{name} peek:\")\n",
        "    print('  ' + '\\n  '.join([str(seq) for seq in list_like[0:peek]]))"
      ],
      "metadata": {
        "id": "BCo7k9jXdxOe"
      },
      "execution_count": 8,
      "outputs": []
    },
    {
      "cell_type": "code",
      "execution_count": 9,
      "metadata": {
        "id": "5lNu54LNAMtV",
        "colab": {
          "base_uri": "https://localhost:8080/"
        },
        "outputId": "ab7aff62-47b8-458f-f19b-a2daff20a5fa"
      },
      "outputs": [
        {
          "output_type": "stream",
          "name": "stdout",
          "text": [
            "The dataset:\n",
            "<class 'pandas.core.frame.DataFrame'>\n",
            "RangeIndex: 6591 entries, 0 to 6590\n",
            "Data columns (total 4 columns):\n",
            " #   Column            Non-Null Count  Dtype \n",
            "---  ------            --------------  ----- \n",
            " 0   misconception_id  6591 non-null   int64 \n",
            " 1   misconception     6591 non-null   object\n",
            " 2   tweet_id          6591 non-null   int64 \n",
            " 3   label             6591 non-null   object\n",
            "dtypes: int64(2), object(2)\n",
            "memory usage: 206.1+ KB\n",
            "\n",
            "Data peek:\n",
            "   misconception_id                                      misconception  \\\n",
            "0                 3             Coronavirus is genetically engineered.   \n",
            "1                30  Blowing conch shells destroys coronavirus pote...   \n",
            "2                57  Swans and dolphins swimming in Venice canals f...   \n",
            "3                22                         Cocaine cures coronavirus.   \n",
            "4                32  Observing janata curfew will result in the red...   \n",
            "5                25  Holy communion cannot be the cause of the spre...   \n",
            "6                61  Lions were freed to keep people off the street...   \n",
            "7                 3             Coronavirus is genetically engineered.   \n",
            "8                40                Cannabis protects against COVID-19.   \n",
            "9                50  It is safe for individuals infected with COVID...   \n",
            "\n",
            "              tweet_id label  \n",
            "0  1233965490948591616    na  \n",
            "1  1233907923765559296    na  \n",
            "2  1233911842910720000    na  \n",
            "3  1233947734094290944    na  \n",
            "4  1233937085297332224    na  \n",
            "5  1233955845756653568    na  \n",
            "6  1233917889557692416    na  \n",
            "7  1233952635725778944    na  \n",
            "8  1233940738439815168    na  \n",
            "9  1233920123183828992    na  \n",
            "\n",
            "Unique labels: ['na' 'neg' 'pos']\n",
            "Counts of 'labels': label\n",
            "na     0.932939\n",
            "pos    0.043696\n",
            "neg    0.023365\n",
            "Name: proportion, dtype: float64\n"
          ]
        }
      ],
      "source": [
        "#Read data from covid_lies.csv dataset into dataframe\n",
        "df = pd.read_csv('./data/covid_lies.csv')\n",
        "print(\"The dataset:\")\n",
        "df.info()\n",
        "print(\"\\nData peek:\")\n",
        "print(df.head(peek))\n",
        "print()\n",
        "\n",
        "#Seperate out text data(X) and labels(y)\n",
        "input_text = df['misconception'].to_numpy()\n",
        "input_label = df['label'].to_numpy()\n",
        "\n",
        "#Convert labels to binary values('pos' vs 'neg')\n",
        "#df['label'] = input_label = np.array(['pos' if label == 'pos' else 'neg' for label in df['label'].values])\n",
        "\n",
        "#Inspect labels\n",
        "print(\"Unique labels:\", np.unique(input_label))\n",
        "orig_label_counts = df['label'].value_counts(normalize=True)\n",
        "print(\"Counts of 'labels':\", orig_label_counts)"
      ]
    },
    {
      "cell_type": "markdown",
      "metadata": {
        "id": "jNsUDJdhAMtW"
      },
      "source": [
        "## Preprocess input data"
      ]
    },
    {
      "cell_type": "code",
      "execution_count": 10,
      "metadata": {
        "id": "z8PtD24vAMtW"
      },
      "outputs": [],
      "source": [
        "def preprocess_text(text)->str:\n",
        "    #Letter-level cleaning\n",
        "    text = text.lower()\n",
        "    valid_asciis = {9, *range(32, 127)}\n",
        "    text = ''.join(filter(lambda x: ord(x) in valid_asciis, text))\n",
        "\n",
        "    #Word/sequence-level cleaning\n",
        "    text = re.sub(r'\\s+', ' ', text)\n",
        "    text = re.sub(r'http\\S+', '', text)\n",
        "    stop_words = set(stopwords.words('english'))\n",
        "    text = ' '.join(word for word in text.split() if word not in stop_words)\n",
        "    return text\n"
      ]
    },
    {
      "cell_type": "code",
      "source": [
        "#Preprocess the text\n",
        "for i in range(len(input_text)):\n",
        "    input_text[i] = preprocess_text(input_text[i])"
      ],
      "metadata": {
        "id": "z-l4_oDDUSLj"
      },
      "execution_count": 11,
      "outputs": []
    },
    {
      "cell_type": "markdown",
      "metadata": {
        "id": "gwmzm7pYAMtW"
      },
      "source": [
        "## Tokenize input text data"
      ]
    },
    {
      "cell_type": "code",
      "source": [
        "#Tokenize the text\n",
        "\n",
        "input_tokens = [nltk.word_tokenize(text) for text in input_text]\n",
        "\n",
        "# Split tokens based on non-alphanumeric characters\n",
        "final_tokens = []\n",
        "total_tokens = 0\n",
        "for token_set in input_tokens:\n",
        "    final_tkn_set = []\n",
        "    for tk in token_set:\n",
        "        sub_tkns = [c for c in re.split(r\"(\\W+)\", tk) if c]\n",
        "        total_tokens += len(sub_tkns)\n",
        "        final_tkn_set += sub_tkns\n",
        "    final_tokens.append(final_tkn_set)\n",
        "present_list_like(f\"Tokenized sentences({len(final_tokens)} sentences, {total_tokens} tokens)\", final_tokens)"
      ],
      "metadata": {
        "id": "QvKgthj0WYNm",
        "colab": {
          "base_uri": "https://localhost:8080/"
        },
        "outputId": "58d554a4-a3d3-4095-8d12-f17f4a45185a"
      },
      "execution_count": 12,
      "outputs": [
        {
          "output_type": "stream",
          "name": "stdout",
          "text": [
            "Tokenized sentences(6591 sentences, 51404 tokens) peek:\n",
            "  ['coronavirus', 'genetically', 'engineered', '.']\n",
            "  ['blowing', 'conch', 'shells', 'destroys', 'coronavirus', 'potency', '.']\n",
            "  ['swans', 'dolphins', 'swimming', 'venice', 'canals', 'following', 'covid', '-', '19', 'lockdown', '.']\n",
            "  ['cocaine', 'cures', 'coronavirus', '.']\n",
            "  ['observing', 'janata', 'curfew', 'result', 'reduction', 'covid', '-', '19', 'cases', '40', '%', '.']\n",
            "  ['holy', 'communion', 'can', 'not', 'cause', 'spread', 'coronavirus']\n",
            "  ['lions', 'freed', 'keep', 'people', 'streets', 'moscow', '.']\n",
            "  ['coronavirus', 'genetically', 'engineered', '.']\n",
            "  ['cannabis', 'protects', 'covid', '-', '19', '.']\n",
            "  ['safe', 'individuals', 'infected', 'covid', '-', '19', 'go', 'work', '.']\n"
          ]
        }
      ]
    },
    {
      "cell_type": "markdown",
      "metadata": {
        "id": "Fg2l2lJsAMtX"
      },
      "source": [
        "## Form embeddings for input data"
      ]
    },
    {
      "cell_type": "code",
      "source": [
        "#Embed the tokens\n",
        "\n",
        "# Map each token to its frequency in the dataset\n",
        "flat_tokens = [word for token_set in final_tokens for word in token_set]\n",
        "frequencies = Counter(flat_tokens)\n",
        "token_to_idx = {word: idx+1 for idx, (word, _) in enumerate(frequencies.most_common())}\n",
        "vocab_size = len(token_to_idx)\n",
        "print(vocab_size, \"unique tokens\")\n",
        "present_list_like(\"Unique tokens\", list(token_to_idx.keys()))\n",
        "\n",
        "# Embed the tokens\n",
        "freq_indexed = [[token_to_idx[token] for token in token_set] for token_set in final_tokens]\n",
        "\n",
        "# Make embeddings the same size\n",
        "forced_idx_set_size = max(len(idxs) for idxs in freq_indexed)\n",
        "freq_indexed = [\n",
        "    idxs[:forced_idx_set_size] + [0]*(forced_idx_set_size - len(idxs))\n",
        "    for idxs in freq_indexed\n",
        "]\n",
        "present_list_like(f\"\\nFinal Index Sets(Set_Size = {forced_idx_set_size}, {len(freq_indexed)} index sets)\", freq_indexed)"
      ],
      "metadata": {
        "id": "xR1GIMwXbRzb",
        "colab": {
          "base_uri": "https://localhost:8080/"
        },
        "outputId": "39789d0c-781e-4b7e-a45e-5577cd4cbbf6"
      },
      "execution_count": 13,
      "outputs": [
        {
          "output_type": "stream",
          "name": "stdout",
          "text": [
            "266 unique tokens\n",
            "Unique tokens peek:\n",
            "  .\n",
            "  coronavirus\n",
            "  -\n",
            "  covid\n",
            "  19\n",
            "  cure\n",
            "  cures\n",
            "  ,\n",
            "  '\n",
            "  vitamin\n",
            "\n",
            "Final Index Sets(Set_Size = 19, 6591 index sets) peek:\n",
            "  [2, 27, 28, 1, 0, 0, 0, 0, 0, 0, 0, 0, 0, 0, 0, 0, 0, 0, 0]\n",
            "  [53, 54, 55, 56, 2, 57, 1, 0, 0, 0, 0, 0, 0, 0, 0, 0, 0, 0, 0]\n",
            "  [58, 59, 60, 41, 42, 11, 4, 3, 5, 12, 1, 0, 0, 0, 0, 0, 0, 0, 0]\n",
            "  [61, 7, 2, 1, 0, 0, 0, 0, 0, 0, 0, 0, 0, 0, 0, 0, 0, 0, 0]\n",
            "  [219, 220, 221, 222, 223, 4, 3, 5, 224, 225, 226, 1, 0, 0, 0, 0, 0, 0, 0]\n",
            "  [47, 48, 13, 14, 49, 15, 2, 0, 0, 0, 0, 0, 0, 0, 0, 0, 0, 0, 0]\n",
            "  [62, 63, 64, 65, 30, 66, 1, 0, 0, 0, 0, 0, 0, 0, 0, 0, 0, 0, 0]\n",
            "  [2, 27, 28, 1, 0, 0, 0, 0, 0, 0, 0, 0, 0, 0, 0, 0, 0, 0, 0]\n",
            "  [67, 24, 4, 3, 5, 1, 0, 0, 0, 0, 0, 0, 0, 0, 0, 0, 0, 0, 0]\n",
            "  [68, 69, 31, 4, 3, 5, 70, 71, 1, 0, 0, 0, 0, 0, 0, 0, 0, 0, 0]\n"
          ]
        }
      ]
    },
    {
      "cell_type": "markdown",
      "metadata": {
        "id": "0YKnA7ShAMtX"
      },
      "source": [
        "## Define and train a GRU model using PyTorch"
      ]
    },
    {
      "cell_type": "code",
      "source": [
        "#Define the model\n",
        "\n",
        "import torch\n",
        "import torch.nn as nn\n",
        "\n",
        "class GRUModel(nn.Module):\n",
        "    def __init__(self, input_dim, embedding_dim, hidden_dim, output_dim, n_layers, dropout):\n",
        "        super(GRUModel, self).__init__()\n",
        "        self.embedding = nn.Embedding(input_dim, embedding_dim)\n",
        "        self.gru = nn.GRU(embedding_dim, hidden_dim, num_layers=n_layers, batch_first=True, dropout=dropout)\n",
        "        self.fc = nn.Linear(hidden_dim, output_dim)\n",
        "\n",
        "    def forward(self, x):\n",
        "        _, hidden = self.gru(self.embedding(x))\n",
        "        return self.fc(hidden[-1])"
      ],
      "metadata": {
        "id": "ON_dnwJThucS"
      },
      "execution_count": 14,
      "outputs": []
    },
    {
      "cell_type": "code",
      "source": [
        "#Training fn\n",
        "def train_model(model, dataloader, optimizer, criterion, device, epochs=10):\n",
        "    model.train()\n",
        "    for epoch in range(epochs):\n",
        "        epoch_loss = 0\n",
        "        epoch_tps = 0\n",
        "        total_samples = 0\n",
        "\n",
        "        for inputs, labels in dataloader:\n",
        "            inputs, labels = inputs.to(device), labels.to(device)\n",
        "\n",
        "            optimizer.zero_grad()\n",
        "            predictions = model(inputs).squeeze()\n",
        "            loss = criterion(predictions, labels)\n",
        "            loss.backward()\n",
        "            optimizer.step()\n",
        "\n",
        "            epoch_loss += loss.item() #Track total loss\n",
        "            #Track total accuracy\n",
        "            _, predicted_classes = torch.max(predictions, 1)\n",
        "            epoch_tps += (predicted_classes == labels).sum().item()\n",
        "            total_samples += labels.size(0)\n",
        "\n",
        "        print(f\"Epoch {epoch+1}/{epochs} | Loss: {epoch_loss/len(dataloader):.4f} | Accuracy: {epoch_tps/total_samples:.4f}\")"
      ],
      "metadata": {
        "id": "u0U6Zv2v77Ku"
      },
      "execution_count": 15,
      "outputs": []
    },
    {
      "cell_type": "code",
      "source": [
        "def show_balanced(y_train_balanced, label_ordering):\n",
        "    balanced_class_counts = Counter(y_train_balanced.numpy())\n",
        "    print(\"Balanced class distribution:\", {label_ordering[i]: count for i, count in balanced_class_counts.items()})\n",
        "    print(X_train_balanced.size(0), \"balanced training samples of shape\", X_train_balanced.shape)\n",
        "\n",
        "def balance_via_sampling(X_train, y_train, label_ordering):\n",
        "    #Balance classes in training sets via resampling\n",
        "\n",
        "    X_train = X_train.numpy()\n",
        "    y_train = y_train.numpy()\n",
        "\n",
        "    # Count the number of samples in each class\n",
        "    class_counts = Counter(y_train)\n",
        "    print(\"Original class distribution:\", class_counts)\n",
        "    max_samples = max(class_counts.values())\n",
        "\n",
        "    # Resample the training data\n",
        "    X_train_balanced = []\n",
        "    y_train_balanced = []\n",
        "    for class_label in class_counts.keys():\n",
        "        #Perform oversampling for the current class\n",
        "        class_mask = (y_train == class_label)\n",
        "        X_class = X_train[class_mask]\n",
        "        y_class = y_train[class_mask]\n",
        "        X_class_resampled, y_class_resampled = resample(\n",
        "            X_class,\n",
        "            y_class,\n",
        "            replace=True,\n",
        "            n_samples=max_samples,\n",
        "            random_state=42\n",
        "        )\n",
        "        X_train_balanced.append(X_class_resampled)\n",
        "        y_train_balanced.append(y_class_resampled)\n",
        "\n",
        "    # Combine resampled data for all classes\n",
        "    X_train_balanced = torch.tensor(np.vstack(X_train_balanced), dtype=torch.long)\n",
        "    y_train_balanced = torch.tensor(np.hstack(y_train_balanced), dtype=torch.long)\n",
        "\n",
        "    # Print the new class distribution, return results\n",
        "    show_balanced(y_train_balanced, label_ordering)\n",
        "    return X_train_balanced, y_train_balanced\n",
        "\n",
        "\n",
        "def balance_via_synthesis(X_train, y_train, label_ordering):\n",
        "    #Balance classes in training sets via synthetic sample creation via SMOTE\n",
        "\n",
        "    smote = SMOTE(sampling_strategy='auto', random_state=42)\n",
        "    X_train_balanced, y_train_balanced = smote.fit_resample(X_train.numpy(), y_train.numpy())\n",
        "    X_train_balanced = torch.tensor(X_train_balanced, dtype=torch.long)\n",
        "    y_train_balanced = torch.tensor(y_train_balanced, dtype=torch.long)\n",
        "\n",
        "    # Print the new class distribution, return results\n",
        "    show_balanced(y_train_balanced, label_ordering)\n",
        "    return X_train_balanced, y_train_balanced"
      ],
      "metadata": {
        "id": "sy-_MrVlXHdo"
      },
      "execution_count": 29,
      "outputs": []
    },
    {
      "cell_type": "code",
      "execution_count": 31,
      "metadata": {
        "id": "XMnIo7dVAMtX",
        "colab": {
          "base_uri": "https://localhost:8080/"
        },
        "outputId": "47b8df47-8175-4bb4-c0bc-18b71c3ba225"
      },
      "outputs": [
        {
          "output_type": "stream",
          "name": "stdout",
          "text": [
            "Model: GRUModel(\n",
            "  (embedding): Embedding(267, 15000)\n",
            "  (gru): GRU(15000, 128, num_layers=2, batch_first=True, dropout=0.2)\n",
            "  (fc): Linear(in_features=128, out_features=3, bias=True)\n",
            ")\n",
            "6591 overall samples of shape torch.Size([6591, 19])\n",
            "5272 training samples of shape torch.Size([5272, 19])\n",
            "1319 validation samples of shape torch.Size([1319, 19])\n",
            "Balanced class distribution: {'na': 4923, 'pos': 4923, 'neg': 4923}\n",
            "14769 balanced training samples of shape torch.Size([14769, 19])\n"
          ]
        }
      ],
      "source": [
        "#Setup to train\n",
        "\n",
        "# Model and training structure\n",
        "INPUT_DIM = vocab_size + 1\n",
        "EMBEDDING_DIM = 15000\n",
        "HIDDEN_DIM = 128\n",
        "OUTPUT_DIM = orig_label_counts.shape[0]\n",
        "N_LAYERS = 2\n",
        "DROPOUT = 0.2\n",
        "BATCH_SIZE = 64\n",
        "EPOCHS = 30\n",
        "\n",
        "# Make the model\n",
        "gru_model = GRUModel(INPUT_DIM, EMBEDDING_DIM, HIDDEN_DIM, OUTPUT_DIM, N_LAYERS, DROPOUT)\n",
        "print(\"Model:\", gru_model)\n",
        "\n",
        "# Optimization & loss setup\n",
        "optimizer = torch.optim.AdamW(gru_model.parameters(), lr=0.001)\n",
        "criterion = nn.CrossEntropyLoss()\n",
        "\n",
        "# Move model to GPU if possible\n",
        "device = torch.device('cuda' if torch.cuda.is_available() else 'cpu')\n",
        "gru_model = gru_model.to(device)\n",
        "criterion = criterion.to(device)\n",
        "\n",
        "# Setup the training dataset\n",
        "X = torch.tensor(freq_indexed, dtype=torch.long)\n",
        "label_encoder = LabelEncoder()\n",
        "y = label_encoder.fit_transform(input_label)\n",
        "y = torch.tensor(y, dtype=torch.long)\n",
        "print(X.size(0), \"overall samples of shape\", X.shape)\n",
        "\n",
        "X_train, X_test, y_train, y_test = train_test_split(X.numpy(), y.numpy(), test_size=0.2, random_state=42)\n",
        "X_train, X_test = torch.tensor(X_train, dtype=torch.long), torch.tensor(X_test, dtype=torch.long)\n",
        "y_train, y_test = torch.tensor(y_train, dtype=torch.long), torch.tensor(y_test, dtype=torch.long)\n",
        "print(X_train.size(0), \"training samples of shape\", X_train.shape)\n",
        "print(y_test.size(0), \"validation samples of shape\", X_test.shape)\n",
        "\n",
        "# Balance the training data\n",
        "X_train_balanced, y_train_balanced = balance_via_synthesis(X_train, y_train, label_encoder.classes_)\n",
        "\n",
        "# Create train and test datasets\n",
        "train_dataset = TensorDataset(X_train_balanced, y_train_balanced)\n",
        "test_dataset = TensorDataset(X_test, y_test)\n",
        "train_loader = DataLoader(train_dataset, batch_size=BATCH_SIZE, shuffle=True)\n",
        "test_loader = DataLoader(test_dataset, batch_size=BATCH_SIZE, shuffle=True)"
      ]
    },
    {
      "cell_type": "code",
      "source": [
        "#Train the model\n",
        "train_model(gru_model, train_loader, optimizer, criterion, device, EPOCHS)"
      ],
      "metadata": {
        "id": "dGvlx_i27-JI",
        "colab": {
          "base_uri": "https://localhost:8080/"
        },
        "outputId": "d43e82cf-c6d5-4833-fd5c-3e1c84f2fac6"
      },
      "execution_count": 32,
      "outputs": [
        {
          "output_type": "stream",
          "name": "stdout",
          "text": [
            "Epoch 1/30 | Loss: 0.6312 | Accuracy: 0.7441\n",
            "Epoch 2/30 | Loss: 0.5583 | Accuracy: 0.7722\n",
            "Epoch 3/30 | Loss: 0.5436 | Accuracy: 0.7785\n",
            "Epoch 4/30 | Loss: 0.5350 | Accuracy: 0.7820\n",
            "Epoch 5/30 | Loss: 0.5285 | Accuracy: 0.7853\n",
            "Epoch 6/30 | Loss: 0.5243 | Accuracy: 0.7879\n",
            "Epoch 7/30 | Loss: 0.5212 | Accuracy: 0.7873\n",
            "Epoch 8/30 | Loss: 0.5178 | Accuracy: 0.7902\n",
            "Epoch 9/30 | Loss: 0.5148 | Accuracy: 0.7892\n",
            "Epoch 10/30 | Loss: 0.5131 | Accuracy: 0.7899\n",
            "Epoch 11/30 | Loss: 0.5128 | Accuracy: 0.7890\n",
            "Epoch 12/30 | Loss: 0.5133 | Accuracy: 0.7897\n",
            "Epoch 13/30 | Loss: 0.5102 | Accuracy: 0.7908\n",
            "Epoch 14/30 | Loss: 0.5077 | Accuracy: 0.7916\n",
            "Epoch 15/30 | Loss: 0.5069 | Accuracy: 0.7906\n",
            "Epoch 16/30 | Loss: 0.5066 | Accuracy: 0.7908\n",
            "Epoch 17/30 | Loss: 0.5076 | Accuracy: 0.7921\n",
            "Epoch 18/30 | Loss: 0.5065 | Accuracy: 0.7915\n",
            "Epoch 19/30 | Loss: 0.5057 | Accuracy: 0.7921\n",
            "Epoch 20/30 | Loss: 0.5047 | Accuracy: 0.7929\n",
            "Epoch 21/30 | Loss: 0.5043 | Accuracy: 0.7927\n",
            "Epoch 22/30 | Loss: 0.5079 | Accuracy: 0.7910\n",
            "Epoch 23/30 | Loss: 0.5046 | Accuracy: 0.7930\n",
            "Epoch 24/30 | Loss: 0.5038 | Accuracy: 0.7928\n",
            "Epoch 25/30 | Loss: 0.5040 | Accuracy: 0.7927\n",
            "Epoch 26/30 | Loss: 0.5027 | Accuracy: 0.7923\n",
            "Epoch 27/30 | Loss: 0.5039 | Accuracy: 0.7927\n",
            "Epoch 28/30 | Loss: 0.5045 | Accuracy: 0.7929\n",
            "Epoch 29/30 | Loss: 0.5031 | Accuracy: 0.7927\n",
            "Epoch 30/30 | Loss: 0.5033 | Accuracy: 0.7925\n"
          ]
        }
      ]
    },
    {
      "cell_type": "markdown",
      "metadata": {
        "id": "NWNwH4d3AMtX"
      },
      "source": [
        "## Save Model Weights"
      ]
    },
    {
      "cell_type": "code",
      "source": [
        "#Save the model weights\n",
        "torch.save(gru_model.state_dict(), \"gru_model_weights.pth\")\n",
        "print(\"Model weights saved to 'gru_model_weights.pth'\")"
      ],
      "metadata": {
        "id": "nqUf6cLwiUYy",
        "colab": {
          "base_uri": "https://localhost:8080/"
        },
        "outputId": "9cff1d1d-9f82-4c6a-a8b8-5352d0b96311"
      },
      "execution_count": 33,
      "outputs": [
        {
          "output_type": "stream",
          "name": "stdout",
          "text": [
            "Model weights saved to 'gru_model_weights.pth'\n"
          ]
        }
      ]
    },
    {
      "cell_type": "markdown",
      "metadata": {
        "id": "j5c__mmaAMtX"
      },
      "source": [
        "## Evaluate Model"
      ]
    },
    {
      "cell_type": "code",
      "source": [
        "#Evaluation functions\n",
        "import typing as tp\n",
        "\n",
        "# Get predictions\n",
        "def get_predictions(\n",
        "    test_loader, model, num_samples,\n",
        "    pred_type: tp.Literal['model', 'baseline', 'random'] = 'model',\n",
        "    device=None,\n",
        "    label_ordering=None, orig_label_counts=None,\n",
        "    num_classes=None\n",
        "):\n",
        "    predictions = []\n",
        "    y_test = []\n",
        "\n",
        "    if pred_type == 'model':\n",
        "        model.eval()\n",
        "        with torch.no_grad():\n",
        "            for batch_X, batch_y in test_loader:\n",
        "                y_test.extend(batch_y)\n",
        "\n",
        "                batch_X, batch_y = batch_X.to(device), batch_y.to(device)\n",
        "                batch_size = batch_X.size(0)\n",
        "\n",
        "                outputs = model(batch_X).squeeze()\n",
        "                _, predicted = torch.max(outputs, 1)\n",
        "                predictions.extend(predicted.cpu())\n",
        "        y_test = torch.tensor(y_test, dtype=torch.long)\n",
        "    elif pred_type == 'baseline':\n",
        "        orig_label_counts = orig_label_counts.sort_index(key=lambda idx: orig_label_counts[idx], inplace=False, ascending=False)\n",
        "        majority_class = list(label_ordering).index(orig_label_counts.index[0])\n",
        "        predictions += [majority_class for _ in range(num_samples)]\n",
        "    else:\n",
        "        predictions += [random.randint(0, num_classes - 1) for _ in range(num_samples)]\n",
        "\n",
        "    predictions = torch.tensor(predictions, dtype=torch.long)\n",
        "    if pred_type == 'model':\n",
        "        return predictions, y_test\n",
        "    return predictions\n",
        "\n",
        "# Calculate per-class metrics\n",
        "def per_class_metrics(labels, predictions, num_classes, label_ordering):\n",
        "    precision_per_class = precision_score(labels, predictions, average=None, labels=np.arange(num_classes), zero_division=0)\n",
        "    recall_per_class = recall_score(labels, predictions, average=None, labels=np.arange(num_classes), zero_division=0)\n",
        "    f1_per_class = f1_score(labels, predictions, average=None, labels=np.arange(num_classes), zero_division=0)\n",
        "\n",
        "    results = []\n",
        "    for metrics in [precision_per_class, recall_per_class, f1_per_class]:\n",
        "        results.append({label_ordering[i]: metrics[i] for i in range(len(metrics))})\n",
        "    return tuple(results)\n",
        "\n",
        "# Calculate Macro metrics\n",
        "def macro_metrics(labels, predictions):\n",
        "    precision_macro = precision_score(labels, predictions, average='macro', zero_division=0)\n",
        "    recall_macro = recall_score(labels, predictions, average='macro', zero_division=0)\n",
        "    f1_macro = f1_score(labels, predictions, average='macro', zero_division=0)\n",
        "\n",
        "    return precision_macro, recall_macro, f1_macro\n",
        "\n",
        "# Calculate Micro metrics\n",
        "def micro_metrics(labels, predictions):\n",
        "    precision_micro = precision_score(labels, predictions, average='micro', zero_division=0)\n",
        "    recall_micro = recall_score(labels, predictions, average='micro', zero_division=0)\n",
        "    f1_micro = f1_score(labels, predictions, average='micro', zero_division=0)\n",
        "\n",
        "    return precision_micro, recall_micro, f1_micro\n",
        "\n",
        "# Get evaluations\n",
        "def evaluate(labels, model_pred, baseline_pred, random_pred, label_ordering):\n",
        "    results = {}\n",
        "\n",
        "    for pred_type, predictions in [('Model', model_pred), ('Baseline', baseline_pred), ('Random', random_pred)]:\n",
        "        curr_results = results[pred_type] = {}\n",
        "\n",
        "        #Calculate metrics\n",
        "        accuracy = (predictions == labels).sum().item() / labels.size(0)\n",
        "        precision_per_class, recall_per_class, f1_per_class = per_class_metrics(labels, predictions, num_classes, label_ordering)\n",
        "        precision_macro, recall_macro, f1_macro = macro_metrics(labels, predictions)\n",
        "        precision_micro, recall_micro, f1_micro = micro_metrics(labels, predictions)\n",
        "\n",
        "        #Save all metrics\n",
        "        curr_results[\"Accuracy\"] = accuracy\n",
        "        curr_results[\"Per-Class Precision\"] = precision_per_class\n",
        "        curr_results[\"Per-Class Recall\"] = recall_per_class\n",
        "        curr_results[\"Per-Class F1\"] = f1_per_class\n",
        "\n",
        "        curr_results[\"Macro Precision\"] = precision_macro\n",
        "        curr_results[\"Macro Recall\"] = recall_macro\n",
        "        curr_results[\"Macro F1\"] = f1_macro\n",
        "\n",
        "        curr_results[\"Micro Precision\"]  = precision_micro\n",
        "        curr_results[\"Micro Recall\"] = recall_micro\n",
        "        curr_results[\"Micro F1\"] = f1_micro\n",
        "\n",
        "    return results"
      ],
      "metadata": {
        "id": "R1jhLEJriIV_"
      },
      "execution_count": 34,
      "outputs": []
    },
    {
      "cell_type": "code",
      "source": [
        "#Evaluate and show results\n",
        "\n",
        "# Setup\n",
        "num_classes = OUTPUT_DIM\n",
        "\n",
        "# Get model, baseline, and random predictions\n",
        "#  Use model predictions to get the test labels since the\n",
        "#   test loader shuffles its values and is not in the same order as y_test upon iteration\n",
        "model_pred, labels = get_predictions(test_loader, gru_model, y_test.size(0), pred_type='model', device=device)\n",
        "#  Get other prediction types as normal\n",
        "baseline_pred = get_predictions(\n",
        "    test_loader, gru_model, y_test.size(0), pred_type='baseline',\n",
        "    label_ordering=label_encoder.classes_, orig_label_counts=orig_label_counts\n",
        ")\n",
        "random_pred = get_predictions(test_loader, gru_model, y_test.size(0), pred_type='random', num_classes=num_classes)\n",
        "\n",
        "print()\n",
        "\n",
        "# Print evaluation results\n",
        "pprint.pprint(evaluate(labels, model_pred, baseline_pred, random_pred, label_encoder.classes_))\n",
        "\n",
        "# Generate confusion matrix\n",
        "conf_matrix = confusion_matrix(labels, model_pred)\n",
        "class_labels = label_encoder.classes_\n",
        "\n",
        "#  Plot the confusion matrix as a heatmap\n",
        "def plot_confusion_matrix(conf_matrix, class_labels):\n",
        "    sns.heatmap(\n",
        "        conf_matrix, annot=True, fmt='d', cmap='Blues', cbar=True,\n",
        "        xticklabels=class_labels, yticklabels=class_labels\n",
        "    )\n",
        "    plt.title('Confusion Matrix')\n",
        "    plt.xlabel('Predicted Labels')\n",
        "    plt.ylabel('True Labels')\n",
        "    plt.tight_layout()\n",
        "    plt.show()\n",
        "print(\"\\n\")\n",
        "plot_confusion_matrix(conf_matrix, class_labels)\n"
      ],
      "metadata": {
        "colab": {
          "base_uri": "https://localhost:8080/",
          "height": 1000
        },
        "id": "9M-kBL9orNAt",
        "outputId": "02fc55f8-b4aa-4fe7-a68e-ace160491c80"
      },
      "execution_count": 35,
      "outputs": [
        {
          "output_type": "stream",
          "name": "stdout",
          "text": [
            "\n",
            "{'Baseline': {'Accuracy': 0.9294920394238059,\n",
            "              'Macro F1': 0.32115258677144726,\n",
            "              'Macro Precision': 0.30983067980793527,\n",
            "              'Macro Recall': 0.3333333333333333,\n",
            "              'Micro F1': 0.9294920394238059,\n",
            "              'Micro Precision': 0.9294920394238059,\n",
            "              'Micro Recall': 0.9294920394238059,\n",
            "              'Per-Class F1': {'na': 0.9634577603143418,\n",
            "                               'neg': 0.0,\n",
            "                               'pos': 0.0},\n",
            "              'Per-Class Precision': {'na': 0.9294920394238059,\n",
            "                                      'neg': 0.0,\n",
            "                                      'pos': 0.0},\n",
            "              'Per-Class Recall': {'na': 1.0, 'neg': 0.0, 'pos': 0.0}},\n",
            " 'Model': {'Accuracy': 0.7983320697498104,\n",
            "           'Macro F1': 0.5155207749722205,\n",
            "           'Macro Precision': 0.4723047066287612,\n",
            "           'Macro Recall': 0.7492535834157031,\n",
            "           'Micro F1': 0.7983320697498104,\n",
            "           'Micro Precision': 0.7983320697498104,\n",
            "           'Micro Recall': 0.7983320697498104,\n",
            "           'Per-Class F1': {'na': 0.8861898335582546,\n",
            "                            'neg': 0.3380281690140845,\n",
            "                            'pos': 0.32234432234432236},\n",
            "           'Per-Class Precision': {'na': 0.9879638916750251,\n",
            "                                   'neg': 0.22429906542056074,\n",
            "                                   'pos': 0.20465116279069767},\n",
            "           'Per-Class Recall': {'na': 0.8034257748776509,\n",
            "                                'neg': 0.6857142857142857,\n",
            "                                'pos': 0.7586206896551724}},\n",
            " 'Random': {'Accuracy': 0.32676269901440486,\n",
            "            'Macro F1': 0.19505921332949985,\n",
            "            'Macro Precision': 0.321871102597765,\n",
            "            'Macro Recall': 0.2750257823779791,\n",
            "            'Micro F1': 0.32676269901440486,\n",
            "            'Micro Precision': 0.32676269901440486,\n",
            "            'Micro Recall': 0.32676269901440486,\n",
            "            'Per-Class F1': {'na': 0.48655110579796773,\n",
            "                             'neg': 0.029661016949152543,\n",
            "                             'pos': 0.06896551724137931},\n",
            "            'Per-Class Precision': {'na': 0.9105145413870246,\n",
            "                                    'neg': 0.016018306636155607,\n",
            "                                    'pos': 0.03908045977011494},\n",
            "            'Per-Class Recall': {'na': 0.33197389885807504,\n",
            "                                 'neg': 0.2,\n",
            "                                 'pos': 0.29310344827586204}}}\n",
            "\n",
            "\n"
          ]
        },
        {
          "output_type": "display_data",
          "data": {
            "text/plain": [
              "<Figure size 640x480 with 2 Axes>"
            ],
            "image/png": "[encoded data removed]"
          },
          "metadata": {}
        }
      ]
    }
  ],
  "metadata": {
    "kernelspec": {
      "display_name": "Python 3",
      "name": "python3"
    },
    "language_info": {
      "codemirror_mode": {
        "name": "ipython",
        "version": 3
      },
      "file_extension": ".py",
      "mimetype": "text/x-python",
      "name": "python",
      "nbconvert_exporter": "python",
      "pygments_lexer": "ipython3",
      "version": "3.12.7"
    },
    "colab": {
      "provenance": [],
      "gpuType": "T4"
    },
    "accelerator": "GPU"
  },
  "nbformat": 4,
  "nbformat_minor": 0
}