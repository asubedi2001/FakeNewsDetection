{
  "cells": [
    {
      "cell_type": "code",
      "execution_count": 608,
      "metadata": {
        "id": "Ozyb-vXSAMtT"
      },
      "outputs": [],
      "source": [
        "import numpy as np\n",
        "import pandas as pd\n",
        "import random\n",
        "import re\n",
        "import nltk\n",
        "import torch\n",
        "import torch.nn as nn\n",
        "from torch.utils.data import DataLoader, TensorDataset, random_split\n",
        "import torch.optim as optim\n",
        "from nltk.corpus import stopwords\n",
        "from collections import Counter\n",
        "from sklearn.preprocessing import LabelEncoder\n",
        "from sklearn.model_selection import train_test_split\n",
        "from sklearn.utils import resample\n",
        "from sklearn.metrics import precision_score, recall_score, f1_score\n",
        "import random\n",
        "import pprint\n",
        "from imblearn.over_sampling import SMOTE\n",
        "import matplotlib.pyplot as plt\n",
        "import seaborn as sns\n",
        "from sklearn.metrics import confusion_matrix, ConfusionMatrixDisplay\n",
        "random.seed(184)"
      ]
    },
    {
      "cell_type": "code",
      "source": [
        "nltk.download('stopwords')\n",
        "nltk.download('punkt_tab')\n",
        "nltk.download('punkt')"
      ],
      "metadata": {
        "id": "cF0LGpIbKgBP",
        "colab": {
          "base_uri": "https://localhost:8080/"
        },
        "outputId": "9224146d-e1c3-4880-d23f-34d8f37cc100"
      },
      "execution_count": 609,
      "outputs": [
        {
          "output_type": "stream",
          "name": "stderr",
          "text": [
            "[nltk_data] Downloading package stopwords to /root/nltk_data...\n",
            "[nltk_data]   Package stopwords is already up-to-date!\n",
            "[nltk_data] Downloading package punkt_tab to /root/nltk_data...\n",
            "[nltk_data]   Package punkt_tab is already up-to-date!\n",
            "[nltk_data] Downloading package punkt to /root/nltk_data...\n",
            "[nltk_data]   Package punkt is already up-to-date!\n"
          ]
        },
        {
          "output_type": "execute_result",
          "data": {
            "text/plain": [
              "True"
            ]
          },
          "metadata": {},
          "execution_count": 609
        }
      ]
    },
    {
      "cell_type": "markdown",
      "metadata": {
        "id": "6vGZJybiAMtV"
      },
      "source": [
        "## Read in data"
      ]
    },
    {
      "cell_type": "code",
      "source": [
        "peek = 20\n",
        "def present_list_like(name, list_like, peek=peek):\n",
        "    print(f\"{name} peek:\")\n",
        "    print('  ' + '\\n  '.join(\n",
        "        str(v) for v in random.choices(list_like, k=min(peek, len(list_like)))\n",
        "    ))"
      ],
      "metadata": {
        "id": "BCo7k9jXdxOe"
      },
      "execution_count": 610,
      "outputs": []
    },
    {
      "cell_type": "code",
      "execution_count": 611,
      "metadata": {
        "id": "5lNu54LNAMtV",
        "colab": {
          "base_uri": "https://localhost:8080/"
        },
        "outputId": "53fb0852-619c-40b8-b3ca-fa6d828cf84e"
      },
      "outputs": [
        {
          "output_type": "stream",
          "name": "stdout",
          "text": [
            "Dataset columns(14 in total) peek:\n",
            "  subject\n",
            "  subject\n",
            "  context\n",
            "  false_counts\n",
            "  speaker\n",
            "  mostly_true_counts\n",
            "  pants_on_fire_counts\n",
            "  context\n",
            "  barely_true_counts\n",
            "  pants_on_fire_counts\n",
            "  mostly_true_counts\n",
            "  barely_true_counts\n",
            "  id\n",
            "  party_affiliation\n"
          ]
        }
      ],
      "source": [
        "columns = [\n",
        "    'id', 'label', 'claim', 'subject', 'speaker', 'speaker_job_title', 'state_info',\n",
        "    'party_affiliation', 'barely_true_counts', 'false_counts',\n",
        "    'half_true_counts', 'mostly_true_counts', 'pants_on_fire_counts', 'context'\n",
        "]\n",
        "present_list_like(f\"Dataset columns({len(columns)} in total)\", columns, len(columns))\n",
        "def load_data(split):\n",
        "    df = pd.read_csv(f\"./data/{split}.tsv\", sep='\\t', names=columns).dropna()\n",
        "    print(\"The training dataset:\")\n",
        "    df.info()\n",
        "    print(\"\\nData peek:\")\n",
        "    print(df.head(peek))\n",
        "    print()\n",
        "    return df\n"
      ]
    },
    {
      "cell_type": "markdown",
      "source": [
        "##Tokenize the data"
      ],
      "metadata": {
        "id": "9pmP3E0AW-Wj"
      }
    },
    {
      "cell_type": "code",
      "source": [
        "pad_tkn = \"<PAD>\""
      ],
      "metadata": {
        "id": "8KEuwtbf8v0e"
      },
      "execution_count": 612,
      "outputs": []
    },
    {
      "cell_type": "code",
      "execution_count": 613,
      "metadata": {
        "id": "z8PtD24vAMtW"
      },
      "outputs": [],
      "source": [
        "def tokenize_text(input_text, known_vector_size=None, token_to_idx={}):\n",
        "    def preprocess_text(text)->str:\n",
        "        #Letter-level cleaning\n",
        "        text = text.lower()\n",
        "        valid_asciis = {9, *range(32, 127)}\n",
        "        text = ''.join(filter(lambda x: ord(x) in valid_asciis, text))\n",
        "\n",
        "        #Word/sequence-level cleaning\n",
        "        text = re.sub(r'\\s+', ' ', text)\n",
        "        text = re.sub(r'http\\S+', '', text)\n",
        "        stop_words = set(stopwords.words('english'))\n",
        "        text = ' '.join(word for word in text.split() if word not in stop_words)\n",
        "        return text\n",
        "\n",
        "    #Preprocess the text\n",
        "    for i in range(len(input_text)):\n",
        "        input_text[i] = preprocess_text(input_text[i])\n",
        "\n",
        "\n",
        "    #Tokenize\n",
        "    final_tokens = input_tokens = [nltk.word_tokenize(text) for text in input_text]\n",
        "    total_tokens = sum(len(tkns) for tkns in final_tokens)\n",
        "\n",
        "    # Make all token sets the same length\n",
        "    forced_tkn_set_size = (\n",
        "        known_vector_size if known_vector_size\n",
        "        else int(np.percentile([len(tkns) for tkns in final_tokens], 80))\n",
        "    )\n",
        "    final_tokens = [\n",
        "        tkns[:forced_tkn_set_size] + [pad_tkn]*(forced_tkn_set_size - len(tkns))\n",
        "        for tkns in final_tokens\n",
        "    ]\n",
        "\n",
        "    # Present results\n",
        "    present_list_like(f\"Tokenized sentences({len(final_tokens)} sentences, {total_tokens} total tokens)\", final_tokens)\n",
        "\n",
        "\n",
        "    #Index the tokens\n",
        "    # Map each token to its frequency in the dataset\n",
        "    if not len(token_to_idx):\n",
        "        flat_tokens = [word for token_set in final_tokens for word in token_set]\n",
        "        frequencies = Counter(flat_tokens)\n",
        "        token_to_idx = {}\n",
        "        for idx, (word, _) in enumerate(frequencies.most_common()):\n",
        "            if idx >= 10000:\n",
        "                break\n",
        "            token_to_idx[word] = idx + 1\n",
        "        if pad_tkn not in token_to_idx:\n",
        "            token_to_idx[pad_tkn] = len(token_to_idx) + 1\n",
        "    vocab_size = len(token_to_idx)\n",
        "    print()\n",
        "    print(vocab_size, \"unique tokens\")\n",
        "    present_list_like(\"Unique tokens\", list(token_to_idx.keys()))\n",
        "\n",
        "    # Index the tokens\n",
        "    freq_indexed = [\n",
        "        [(token_to_idx[token] if token in token_to_idx else 0) for token in token_set]\n",
        "        for token_set in final_tokens\n",
        "    ]\n",
        "\n",
        "    # Present results\n",
        "    present_list_like(f\"\\nFinal Index Sets(Set_Size = {forced_tkn_set_size}, {len(freq_indexed)} index sets)\", freq_indexed)\n",
        "\n",
        "    return freq_indexed, token_to_idx"
      ]
    },
    {
      "cell_type": "code",
      "source": [
        "def get_freq_indexed_and_labels(split, known_vector_size=None, token_to_idx={}):\n",
        "    df = load_data(split)\n",
        "    input_text = df[\"claim\"].to_numpy()\n",
        "    input_labels = df[\"label\"].to_numpy()\n",
        "    freq_indexed, token_to_idx = tokenize_text(input_text, known_vector_size, token_to_idx)\n",
        "\n",
        "    return freq_indexed, token_to_idx, input_labels"
      ],
      "metadata": {
        "id": "L4ep_xTTR8ZA"
      },
      "execution_count": 614,
      "outputs": []
    },
    {
      "cell_type": "markdown",
      "source": [
        "##Turn the data into tensors"
      ],
      "metadata": {
        "id": "CSG8ChPrXEac"
      }
    },
    {
      "cell_type": "code",
      "source": [
        "def as_tensors(split, label_encoder=None, known_vector_size=None, token_to_idx={}):\n",
        "    freq_indexed, token_to_idx, input_labels = get_freq_indexed_and_labels(split, known_vector_size, token_to_idx)\n",
        "    X = torch.tensor(freq_indexed, dtype=torch.long)\n",
        "    label_encoder_existed = (type(label_encoder) != type(None))\n",
        "    label_encoder = (LabelEncoder() if not label_encoder_existed else label_encoder)\n",
        "    y = (\n",
        "        label_encoder.fit_transform(input_labels) if not label_encoder_existed\n",
        "        else label_encoder.transform(input_labels)\n",
        "    )\n",
        "    y = torch.tensor(y, dtype=torch.long)\n",
        "    print(f\"{split.upper()} SPLIT:\", X.size(0), \"overall samples:\", X.shape)\n",
        "\n",
        "    return X, token_to_idx, label_encoder, input_labels, y"
      ],
      "metadata": {
        "id": "DU41k5wmRzHk"
      },
      "execution_count": 615,
      "outputs": []
    },
    {
      "cell_type": "markdown",
      "source": [
        "##Training"
      ],
      "metadata": {
        "id": "kPYRtrwdXJVh"
      }
    },
    {
      "cell_type": "code",
      "source": [
        "BATCH_SIZE = 32"
      ],
      "metadata": {
        "id": "8y8fHZqpbL88"
      },
      "execution_count": 616,
      "outputs": []
    },
    {
      "cell_type": "code",
      "source": [
        "X_train, token_to_idx, label_encoder, train_input_labels, y_train = as_tensors(\"train\")\n",
        "train_vocab_size = len(token_to_idx)\n",
        "input_vector_size = X_train.shape[1]\n",
        "train_dataset = TensorDataset(X_train, y_train)\n",
        "train_loader = DataLoader(train_dataset, batch_size=BATCH_SIZE, shuffle=True)"
      ],
      "metadata": {
        "colab": {
          "base_uri": "https://localhost:8080/"
        },
        "id": "kV1XEzpgVvtQ",
        "outputId": "383b82f6-72f1-40cc-be7a-c6760e9f25c4"
      },
      "execution_count": 617,
      "outputs": [
        {
          "output_type": "stream",
          "name": "stdout",
          "text": [
            "The training dataset:\n",
            "<class 'pandas.core.frame.DataFrame'>\n",
            "Index: 6721 entries, 0 to 10239\n",
            "Data columns (total 14 columns):\n",
            " #   Column                Non-Null Count  Dtype  \n",
            "---  ------                --------------  -----  \n",
            " 0   id                    6721 non-null   object \n",
            " 1   label                 6721 non-null   object \n",
            " 2   claim                 6721 non-null   object \n",
            " 3   subject               6721 non-null   object \n",
            " 4   speaker               6721 non-null   object \n",
            " 5   speaker_job_title     6721 non-null   object \n",
            " 6   state_info            6721 non-null   object \n",
            " 7   party_affiliation     6721 non-null   object \n",
            " 8   barely_true_counts    6721 non-null   float64\n",
            " 9   false_counts          6721 non-null   float64\n",
            " 10  half_true_counts      6721 non-null   float64\n",
            " 11  mostly_true_counts    6721 non-null   float64\n",
            " 12  pants_on_fire_counts  6721 non-null   float64\n",
            " 13  context               6721 non-null   object \n",
            "dtypes: float64(5), object(9)\n",
            "memory usage: 787.6+ KB\n",
            "\n",
            "Data peek:\n",
            "            id        label  \\\n",
            "0    2635.json        false   \n",
            "1   10540.json    half-true   \n",
            "2     324.json  mostly-true   \n",
            "5   12465.json         true   \n",
            "7     153.json    half-true   \n",
            "9    9741.json  mostly-true   \n",
            "10   7115.json  mostly-true   \n",
            "11   4148.json    half-true   \n",
            "12   5947.json        false   \n",
            "14   8705.json  barely-true   \n",
            "15  10683.json    half-true   \n",
            "16    620.json         true   \n",
            "18  12372.json    half-true   \n",
            "19  12385.json  mostly-true   \n",
            "20  10173.json        false   \n",
            "22  12408.json  mostly-true   \n",
            "24   7057.json  barely-true   \n",
            "25  10215.json        false   \n",
            "26  12517.json  mostly-true   \n",
            "27   3910.json    half-true   \n",
            "\n",
            "                                                claim  \\\n",
            "0   Says the Annies List political group supports ...   \n",
            "1   When did the decline of coal start? It started...   \n",
            "2   Hillary Clinton agrees with John McCain \"by vo...   \n",
            "5   The Chicago Bears have had more starting quart...   \n",
            "7   I'm the only person on this stage who has work...   \n",
            "9   Says GOP primary opponents Glenn Grothman and ...   \n",
            "10  For the first time in history, the share of th...   \n",
            "11  Since 2000, nearly 12 million Americans have s...   \n",
            "12  When Mitt Romney was governor of Massachusetts...   \n",
            "14  Most of the (Affordable Care Act) has already ...   \n",
            "15  In this last election in November, ... 63 perc...   \n",
            "16  McCain opposed a requirement that the governme...   \n",
            "18  Water rates in Manila, Philippines, were raise...   \n",
            "19  Almost 100,000 people left Puerto Rico last year.   \n",
            "20  Women and men both are making less when you ad...   \n",
            "22  We just had the best year for the auto industr...   \n",
            "24  Says Mitt Romney wants to get rid of Planned P...   \n",
            "25              I dont know who (Jonathan Gruber) is.   \n",
            "26  Hate crimes against American Muslims and mosqu...   \n",
            "27  Rick Perry has never lost an election and rema...   \n",
            "\n",
            "                                        subject  \\\n",
            "0                                      abortion   \n",
            "1            energy,history,job-accomplishments   \n",
            "2                                foreign-policy   \n",
            "5                                     education   \n",
            "7                                        ethics   \n",
            "9     energy,message-machine-2014,voting-record   \n",
            "10                                    elections   \n",
            "11      economy,jobs,new-hampshire-2012,poverty   \n",
            "12                         history,state-budget   \n",
            "14                                  health-care   \n",
            "15                                    elections   \n",
            "16                               federal-budget   \n",
            "18    financial-regulation,foreign-policy,water   \n",
            "19                bankruptcy,economy,population   \n",
            "20                               economy,income   \n",
            "22                                      economy   \n",
            "24          abortion,federal-budget,health-care   \n",
            "25                                  health-care   \n",
            "26  crime,diversity,homeland-security,terrorism   \n",
            "27                         candidates-biography   \n",
            "\n",
            "                           speaker                  speaker_job_title  \\\n",
            "0                     dwayne-bohac               State representative   \n",
            "1                   scott-surovell                     State delegate   \n",
            "2                     barack-obama                          President   \n",
            "5                        robin-vos         Wisconsin Assembly speaker   \n",
            "7                     barack-obama                          President   \n",
            "9                    duey-stroebel               State representative   \n",
            "10                 robert-menendez                       U.S. Senator   \n",
            "11                        bernie-s                       U.S. Senator   \n",
            "12                     mitt-romney                    Former governor   \n",
            "14                     george-will                          Columnist   \n",
            "15                        bernie-s                       U.S. Senator   \n",
            "16                    barack-obama                          President   \n",
            "18                      gwen-moore  U.S. House member -- 4th District   \n",
            "19                        jack-lew                Treasury secretary    \n",
            "20               dennis-richardson               state representative   \n",
            "22                 hillary-clinton             Presidential candidate   \n",
            "24  planned-parenthood-action-fund                     Advocacy group   \n",
            "25                    nancy-pelosi              House Minority Leader   \n",
            "26                 hillary-clinton             Presidential candidate   \n",
            "27                      ted-nugent                           musician   \n",
            "\n",
            "           state_info party_affiliation  barely_true_counts  false_counts  \\\n",
            "0               Texas        republican                 0.0           1.0   \n",
            "1            Virginia          democrat                 0.0           0.0   \n",
            "2            Illinois          democrat                70.0          71.0   \n",
            "5           Wisconsin        republican                 0.0           3.0   \n",
            "7            Illinois          democrat                70.0          71.0   \n",
            "9           Wisconsin        republican                 0.0           0.0   \n",
            "10         New Jersey          democrat                 1.0           3.0   \n",
            "11            Vermont       independent                18.0          12.0   \n",
            "12      Massachusetts        republican                34.0          32.0   \n",
            "14           Maryland         columnist                 7.0           6.0   \n",
            "15            Vermont       independent                18.0          12.0   \n",
            "16           Illinois          democrat                70.0          71.0   \n",
            "18          Wisconsin          democrat                 3.0           4.0   \n",
            "19  Washington, D.C.           democrat                 0.0           1.0   \n",
            "20             Oregon        republican                 0.0           4.0   \n",
            "22           New York          democrat                40.0          29.0   \n",
            "24   Washington, D.C.              none                 1.0           0.0   \n",
            "25         California          democrat                 3.0           7.0   \n",
            "26           New York          democrat                40.0          29.0   \n",
            "27              Texas        republican                 0.0           0.0   \n",
            "\n",
            "    half_true_counts  mostly_true_counts  pants_on_fire_counts  \\\n",
            "0                0.0                 0.0                   0.0   \n",
            "1                1.0                 1.0                   0.0   \n",
            "2              160.0               163.0                   9.0   \n",
            "5                2.0                 5.0                   1.0   \n",
            "7              160.0               163.0                   9.0   \n",
            "9                0.0                 1.0                   0.0   \n",
            "10               1.0                 3.0                   0.0   \n",
            "11              22.0                41.0                   0.0   \n",
            "12              58.0                33.0                  19.0   \n",
            "14               3.0                 5.0                   1.0   \n",
            "15              22.0                41.0                   0.0   \n",
            "16             160.0               163.0                   9.0   \n",
            "18               4.0                 3.0                   1.0   \n",
            "19               0.0                 1.0                   0.0   \n",
            "20               1.0                 2.0                   0.0   \n",
            "22              69.0                76.0                   7.0   \n",
            "24               0.0                 0.0                   0.0   \n",
            "25              11.0                 2.0                   3.0   \n",
            "26              69.0                76.0                   7.0   \n",
            "27               2.0                 0.0                   2.0   \n",
            "\n",
            "                                         context  \n",
            "0                                       a mailer  \n",
            "1                                a floor speech.  \n",
            "2                                         Denver  \n",
            "5                      a an online opinion-piece  \n",
            "7       a Democratic debate in Philadelphia, Pa.  \n",
            "9                                an online video  \n",
            "10                                      a speech  \n",
            "11                                       a tweet  \n",
            "12                    an interview with CBN News  \n",
            "14                 comments on \"Fox News Sunday\"  \n",
            "15                  a town hall in Austin, Texas  \n",
            "16                                    a radio ad  \n",
            "18                       a congressional hearing  \n",
            "19              an interview with Bloomberg News  \n",
            "20                             a campaign debate  \n",
            "22                   remarks at a Kentucky rally  \n",
            "24                                    a radio ad  \n",
            "25                             a news conference  \n",
            "26  a speech after a terrorist attack in Orlando  \n",
            "27                               an oped column.  \n",
            "\n",
            "Tokenized sentences(6721 sentences, 89464 total tokens) peek:\n",
            "  ['medicare', 'proposal', 'rep.', 'paul', 'ryan', ',', 'r-wis.', ',', 'would', 'allow', 'insurance', 'companies', 'deny', 'coverage', 'drop', 'pre-existing', 'conditions']\n",
            "  ['declaration', 'independence', 'written', 'paper', 'made', 'hemp', '.', '<PAD>', '<PAD>', '<PAD>', '<PAD>', '<PAD>', '<PAD>', '<PAD>', '<PAD>', '<PAD>', '<PAD>']\n",
            "  ['one-half', 'undocumented', 'workers', 'pay', 'federal', 'income', 'taxes', ',', 'means', 'paying', 'federal', 'income', 'taxes', 'donald', 'trump', 'pays', '.']\n",
            "  ['marijuana', 'today', 'genetically', 'modified', ',', 'thc', 'levels', 'far', 'surpass', 'marijuana', '1970s', '.', '<PAD>', '<PAD>', '<PAD>', '<PAD>', '<PAD>']\n",
            "  ['fewest', 'people', 'employed', 'country', 'since', '1979', '.', '<PAD>', '<PAD>', '<PAD>', '<PAD>', '<PAD>', '<PAD>', '<PAD>', '<PAD>', '<PAD>', '<PAD>']\n",
            "  ['republican', 'leaders', 'congress', 'pushing', 'make', 'privatizing', 'social', 'security', 'key', 'part', 'legislative', 'agenda', 'win', 'majority', 'congress', 'fall', '.']\n",
            "  ['jeff', 'weems', 'legal', 'record', 'one', 'defending', 'bp', ',', 'enron', 'every', 'big', 'oil', 'company', 'working', 'man', '.', '<PAD>']\n",
            "  ['trump', 'television', 'ad', 'shows', 'mexicans', 'swarming', 'southern', 'border', '.', '<PAD>', '<PAD>', '<PAD>', '<PAD>', '<PAD>', '<PAD>', '<PAD>', '<PAD>']\n",
            "  ['says', 'president', 'barack', 'obama', 'promised', 'pathway', 'citizenship', 'undocumented', 'immigrants', 'didnt', 'deliver', 'jack', 'squat', 'it', '.', '<PAD>', '<PAD>']\n",
            "  ['university', 'texas', 'starting', 'first', 'medical', 'school', 'major', 'tier', 'one', 'university', 'last', '50', 'years', '.', '<PAD>', '<PAD>', '<PAD>']\n",
            "  ['amazing', '5,400', 'jobs', 'lost', 'first', '12', 'months', '(', 'smoking', ')', 'bans', 'implementation', 'ohios', 'hospitality', 'industry', 'alone', '.']\n",
            "  ['dave', 'aronberg', 'first', 'demand', 'bp', 'create', 'billion-dollar', 'fund', 'pay', 'devastation', '.', '<PAD>', '<PAD>', '<PAD>', '<PAD>', '<PAD>', '<PAD>']\n",
            "  ['dont', 'understand', 'republicans', 'this', '.', 'idea', '.', 'john', 'mccain', 'introduced', 'cap', 'trade', 'legislation', 'three', 'times', '.', '<PAD>']\n",
            "  ['1.53', 'million', 'jobs', 'risk', '(', 'from', 'potential', 'defense', 'cuts', ')', '.', '<PAD>', '<PAD>', '<PAD>', '<PAD>', '<PAD>', '<PAD>']\n",
            "  ['youre', 'mexican', ',', 'get', 'sent', 'back', '.', '...', 'youre', 'noncontiguous', 'country', 'like', 'central', 'american', 'countries', 'stay', 'united']\n",
            "  ['says', 'president', 'obama', 'grown', 'federal', 'government', 'payroll', '141,000', 'workers', 'wants', 'add', '125,000', 'more', '.', '<PAD>', '<PAD>', '<PAD>']\n",
            "  ['starting', 'december', '2007', ',', '1.4', 'million', 'jobs', 'created', 'texas', '.', 'period', ',', 'rest', 'country', 'lost', '400,000', 'jobs']\n",
            "  ['billionaires', 'tax', 'rate', 'low', '1', 'percent', '.', '<PAD>', '<PAD>', '<PAD>', '<PAD>', '<PAD>', '<PAD>', '<PAD>', '<PAD>', '<PAD>', '<PAD>']\n",
            "  ['aids', 'transmitted', 'humans', 'one', 'guy', 'sex', 'monkey', 'started', 'sex', 'men', '.', '<PAD>', '<PAD>', '<PAD>', '<PAD>', '<PAD>', '<PAD>']\n",
            "  ['hollywood', 'celebrities', 'endorsing', 'hillary', 'clinton', 'many', 'cases', 'celebrities', 'arent', 'hot', 'anymore', '.', '<PAD>', '<PAD>', '<PAD>', '<PAD>', '<PAD>']\n",
            "\n",
            "10000 unique tokens\n",
            "Unique tokens peek:\n",
            "  wright\n",
            "  no-cost\n",
            "  billionaire\n",
            "  ward\n",
            "  boccieri\n",
            "  crackdown\n",
            "  comparative\n",
            "  screamed\n",
            "  flies\n",
            "  turn\n",
            "  indicators\n",
            "  610\n",
            "  questions\n",
            "  357,000\n",
            "  pull\n",
            "  orientation\n",
            "  42-inch\n",
            "  york.the\n",
            "  implemented\n",
            "  dukakis\n",
            "\n",
            "Final Index Sets(Set_Size = 17, 6721 index sets) peek:\n",
            "  [38, 17, 147, 5, 150, 31, 5014, 2, 8599, 2388, 644, 324, 2, 204, 147, 4314, 260]\n",
            "  [4039, 2611, 23, 5, 5857, 673, 2226, 25, 953, 5858, 5, 230, 22, 5859, 2, 43, 1]\n",
            "  [244, 1356, 3313, 993, 892, 2470, 177, 53, 982, 3, 61, 830, 2, 85, 2197, 333, 1618]\n",
            "  [4, 732, 657, 42, 283, 289, 67, 2, 1, 1, 1, 1, 1, 1, 1, 1, 1]\n",
            "  [3836, 2, 2837, 7119, 96, 49, 279, 2305, 199, 146, 7120, 521, 1219, 7121, 2, 1, 1]\n",
            "  [8155, 22, 18, 1184, 7, 1621, 2376, 420, 141, 8, 2, 1, 1, 1, 1, 1, 1]\n",
            "  [2275, 6, 15, 34, 161, 100, 68, 562, 979, 40, 2, 1, 1, 1, 1, 1, 1]\n",
            "  [150, 6, 744, 3616, 2719, 2362, 2, 1, 1, 1, 1, 1, 1, 1, 1, 1, 1]\n",
            "  [992, 6755, 1118, 98, 1118, 2, 1, 1, 1, 1, 1, 1, 1, 1, 1, 1, 1]\n",
            "  [2977, 1003, 1154, 1839, 1502, 377, 2456, 18, 268, 228, 2, 1, 1, 1, 1, 1, 1]\n",
            "  [59, 4998, 721, 5, 822, 17, 277, 173, 688, 528, 1168, 30, 3616, 69, 2, 1, 1]\n",
            "  [4, 818, 1155, 61, 42, 424, 14, 996, 778, 1050, 262, 380, 2, 1, 1, 1, 1]\n",
            "  [4, 9, 67, 1333, 1222, 5, 6761, 121, 714, 6762, 6763, 216, 83, 12, 2, 1, 1]\n",
            "  [55, 1208, 3, 41, 3, 1067, 817, 118, 2, 1, 1, 1, 1, 1, 1, 1, 1]\n",
            "  [4, 23, 539, 55, 1065, 270, 42, 186, 148, 279, 71, 146, 557, 245, 170, 246, 901]\n",
            "  [938, 3, 58, 14, 3096, 234, 185, 2, 1, 1, 1, 1, 1, 1, 1, 1, 1]\n",
            "  [15, 10, 4, 1994, 1675, 6677, 296, 278, 3, 3298, 4, 195, 927, 3884, 3, 4481, 3]\n",
            "  [94, 164, 175, 12, 226, 2, 1, 1, 1, 1, 1, 1, 1, 1, 1, 1, 1]\n",
            "  [24, 36, 127, 20, 2098, 527, 65, 33, 267, 86, 2, 1, 1, 1, 1, 1, 1]\n",
            "  [309, 3, 103, 4961, 4962, 111, 238, 30, 90, 73, 2, 1, 1, 1, 1, 1, 1]\n",
            "TRAIN SPLIT: 6721 overall samples: torch.Size([6721, 17])\n"
          ]
        }
      ]
    },
    {
      "cell_type": "code",
      "source": [
        "unique_train_labels = np.unique(train_input_labels)\n",
        "print(len(unique_train_labels), \"labels\")\n",
        "train_label_counts = pd.DataFrame({\"label\": unique_train_labels})[\"label\"].value_counts(normalize=True)\n",
        "print(train_label_counts)"
      ],
      "metadata": {
        "colab": {
          "base_uri": "https://localhost:8080/"
        },
        "id": "QamRMQfAeu9R",
        "outputId": "69557703-2502-4499-db80-73c3b173a704"
      },
      "execution_count": 618,
      "outputs": [
        {
          "output_type": "stream",
          "name": "stdout",
          "text": [
            "6 labels\n",
            "label\n",
            "barely-true    0.166667\n",
            "false          0.166667\n",
            "half-true      0.166667\n",
            "mostly-true    0.166667\n",
            "pants-fire     0.166667\n",
            "true           0.166667\n",
            "Name: proportion, dtype: float64\n"
          ]
        }
      ]
    },
    {
      "cell_type": "code",
      "source": [
        "def train_model(model, dataloader, optimizer, criterion, device, epochs=10):\n",
        "    model.train()\n",
        "    for epoch in range(epochs):\n",
        "        epoch_loss = 0\n",
        "        epoch_tps = 0\n",
        "        total_samples = 0\n",
        "\n",
        "        for inputs, labels in dataloader:\n",
        "            inputs, labels = inputs.to(device), labels.to(device)\n",
        "\n",
        "            optimizer.zero_grad()\n",
        "            predictions = model(inputs)#.squeeze()\n",
        "            #print(predictions)\n",
        "            #print(labels)\n",
        "            loss = criterion(predictions, labels)\n",
        "            loss.backward()\n",
        "            optimizer.step()\n",
        "\n",
        "            epoch_loss += loss.item() #Track total loss\n",
        "            #Track total accuracy\n",
        "            _, predicted_classes = torch.max(predictions, 1)\n",
        "            epoch_tps += (predicted_classes == labels).sum().item()\n",
        "            total_samples += labels.size(0)\n",
        "\n",
        "        print(f\"Epoch {epoch+1}/{epochs} | Loss: {epoch_loss/len(dataloader):.4f} | Accuracy: {epoch_tps/total_samples:.4f}\")"
      ],
      "metadata": {
        "id": "u0U6Zv2v77Ku"
      },
      "execution_count": 619,
      "outputs": []
    },
    {
      "cell_type": "markdown",
      "metadata": {
        "id": "0YKnA7ShAMtX"
      },
      "source": [
        "### The GRU model"
      ]
    },
    {
      "cell_type": "code",
      "source": [
        "#Define the model\n",
        "\n",
        "import torch\n",
        "import torch.nn as nn\n",
        "\n",
        "class GRUModel(nn.Module):\n",
        "    def __init__(self, input_dim, embedding_dim, hidden_dim, output_dim, n_layers, dropout):\n",
        "        super(GRUModel, self).__init__()\n",
        "        self.embedding = nn.Embedding(input_dim, embedding_dim, padding_idx=token_to_idx[pad_tkn])\n",
        "        self.gru = nn.GRU(embedding_dim, hidden_dim, num_layers=n_layers, batch_first=True, dropout=dropout)\n",
        "        self.fc = nn.Linear(hidden_dim, output_dim)\n",
        "\n",
        "    def forward(self, x):\n",
        "        _, hidden = self.gru(self.embedding(x))\n",
        "        return self.fc(hidden[-1])"
      ],
      "metadata": {
        "id": "ON_dnwJThucS"
      },
      "execution_count": 620,
      "outputs": []
    },
    {
      "cell_type": "code",
      "execution_count": 621,
      "metadata": {
        "id": "XMnIo7dVAMtX",
        "colab": {
          "base_uri": "https://localhost:8080/"
        },
        "outputId": "d168dbed-ed98-4a9a-b9b8-af294a78dd38"
      },
      "outputs": [
        {
          "output_type": "stream",
          "name": "stdout",
          "text": [
            "Model: GRUModel(\n",
            "  (embedding): Embedding(10001, 200, padding_idx=1)\n",
            "  (gru): GRU(200, 128, num_layers=2, batch_first=True, dropout=0.3)\n",
            "  (fc): Linear(in_features=128, out_features=6, bias=True)\n",
            ")\n"
          ]
        }
      ],
      "source": [
        "#Setup to train\n",
        "\n",
        "# Model and training structure\n",
        "INPUT_DIM = train_vocab_size + 1\n",
        "EMBEDDING_DIM = 1000\n",
        "HIDDEN_DIM = 128\n",
        "OUTPUT_DIM = train_label_counts.shape[0]\n",
        "N_LAYERS = 2\n",
        "DROPOUT = 0.3\n",
        "EPOCHS = 10\n",
        "\n",
        "# Make the model\n",
        "gru_model = GRUModel(INPUT_DIM, EMBEDDING_DIM, HIDDEN_DIM, OUTPUT_DIM, N_LAYERS, DROPOUT)\n",
        "print(\"Model:\", gru_model)\n",
        "\n",
        "# Optimization & loss setup\n",
        "optimizer = torch.optim.AdamW(gru_model.parameters(), lr=0.001)\n",
        "criterion = nn.CrossEntropyLoss()\n",
        "\n",
        "# Move model to GPU if possible\n",
        "device = torch.device('cuda' if torch.cuda.is_available() else 'cpu')\n",
        "gru_model = gru_model.to(device)\n",
        "criterion = criterion.to(device)\n"
      ]
    },
    {
      "cell_type": "code",
      "source": [
        "#Train the model\n",
        "train_model(gru_model, train_loader, optimizer, criterion, device, EPOCHS)"
      ],
      "metadata": {
        "id": "dGvlx_i27-JI",
        "colab": {
          "base_uri": "https://localhost:8080/"
        },
        "outputId": "611506bc-b9e3-41c2-e529-c166602225ad"
      },
      "execution_count": 622,
      "outputs": [
        {
          "output_type": "stream",
          "name": "stdout",
          "text": [
            "Epoch 1/10 | Loss: 1.7502 | Accuracy: 0.2107\n",
            "Epoch 2/10 | Loss: 1.6846 | Accuracy: 0.2714\n",
            "Epoch 3/10 | Loss: 1.5204 | Accuracy: 0.3743\n",
            "Epoch 4/10 | Loss: 1.2182 | Accuracy: 0.5225\n",
            "Epoch 5/10 | Loss: 0.8297 | Accuracy: 0.6916\n",
            "Epoch 6/10 | Loss: 0.4802 | Accuracy: 0.8304\n",
            "Epoch 7/10 | Loss: 0.2659 | Accuracy: 0.9086\n",
            "Epoch 8/10 | Loss: 0.1356 | Accuracy: 0.9554\n",
            "Epoch 9/10 | Loss: 0.0879 | Accuracy: 0.9719\n",
            "Epoch 10/10 | Loss: 0.0573 | Accuracy: 0.9832\n"
          ]
        }
      ]
    },
    {
      "cell_type": "markdown",
      "metadata": {
        "id": "NWNwH4d3AMtX"
      },
      "source": [
        "## Save Model Weights"
      ]
    },
    {
      "cell_type": "code",
      "source": [
        "#Save the model weights\n",
        "torch.save(gru_model.state_dict(), \"gru_model_weights.pth\")\n",
        "print(\"Model weights saved to 'gru_model_weights.pth'\")"
      ],
      "metadata": {
        "id": "nqUf6cLwiUYy",
        "colab": {
          "base_uri": "https://localhost:8080/"
        },
        "outputId": "6d96406b-1604-496d-f1a9-a50fa1fdb552"
      },
      "execution_count": 623,
      "outputs": [
        {
          "output_type": "stream",
          "name": "stdout",
          "text": [
            "Model weights saved to 'gru_model_weights.pth'\n"
          ]
        }
      ]
    },
    {
      "cell_type": "markdown",
      "metadata": {
        "id": "j5c__mmaAMtX"
      },
      "source": [
        "## Evaluate Model"
      ]
    },
    {
      "cell_type": "code",
      "source": [
        "#Evaluation functions\n",
        "import typing as tp\n",
        "\n",
        "# Get predictions\n",
        "def get_predictions(\n",
        "    test_loader, model, num_samples,\n",
        "    pred_type: tp.Literal['model', 'baseline', 'random'] = 'model',\n",
        "    device=None,\n",
        "    label_ordering=None, orig_label_counts=None,\n",
        "    num_classes=None\n",
        "):\n",
        "    predictions = []\n",
        "    y_eval = []\n",
        "\n",
        "    if pred_type == 'model':\n",
        "        model.eval()\n",
        "        with torch.no_grad():\n",
        "            for batch_X, batch_y in test_loader:\n",
        "                y_eval.extend(batch_y)\n",
        "\n",
        "                batch_X, batch_y = batch_X.to(device), batch_y.to(device)\n",
        "                batch_size = batch_X.size(0)\n",
        "\n",
        "                outputs = model(batch_X).squeeze()\n",
        "                _, predicted = torch.max(outputs, 1)\n",
        "                predictions.extend(predicted.cpu())\n",
        "        y_eval = torch.tensor(y_eval, dtype=torch.long)\n",
        "    elif pred_type == 'baseline':\n",
        "        orig_label_counts = orig_label_counts.sort_index(key=lambda idx: orig_label_counts[idx], inplace=False, ascending=False)\n",
        "        majority_class = list(label_ordering).index(orig_label_counts.index[0])\n",
        "        predictions += [majority_class for _ in range(num_samples)]\n",
        "    else:\n",
        "        predictions += [random.randint(0, num_classes - 1) for _ in range(num_samples)]\n",
        "\n",
        "    predictions = torch.tensor(predictions, dtype=torch.long)\n",
        "    if pred_type == 'model':\n",
        "        return predictions, y_eval\n",
        "    return predictions\n",
        "\n",
        "# Calculate per-class metrics\n",
        "def per_class_metrics(labels, predictions, num_classes, label_ordering):\n",
        "    precision_per_class = precision_score(labels, predictions, average=None, labels=np.arange(num_classes), zero_division=0)\n",
        "    recall_per_class = recall_score(labels, predictions, average=None, labels=np.arange(num_classes), zero_division=0)\n",
        "    f1_per_class = f1_score(labels, predictions, average=None, labels=np.arange(num_classes), zero_division=0)\n",
        "\n",
        "    results = []\n",
        "    for metrics in [precision_per_class, recall_per_class, f1_per_class]:\n",
        "        results.append({label_ordering[i]: metrics[i] for i in range(len(metrics))})\n",
        "    return tuple(results)\n",
        "\n",
        "# Calculate Macro metrics\n",
        "def macro_metrics(labels, predictions):\n",
        "    precision_macro = precision_score(labels, predictions, average='macro', zero_division=0)\n",
        "    recall_macro = recall_score(labels, predictions, average='macro', zero_division=0)\n",
        "    f1_macro = f1_score(labels, predictions, average='macro', zero_division=0)\n",
        "\n",
        "    return precision_macro, recall_macro, f1_macro\n",
        "\n",
        "# Calculate Micro metrics\n",
        "def micro_metrics(labels, predictions):\n",
        "    precision_micro = precision_score(labels, predictions, average='micro', zero_division=0)\n",
        "    recall_micro = recall_score(labels, predictions, average='micro', zero_division=0)\n",
        "    f1_micro = f1_score(labels, predictions, average='micro', zero_division=0)\n",
        "\n",
        "    return precision_micro, recall_micro, f1_micro\n",
        "\n",
        "# Get evaluations\n",
        "def evaluate(labels, num_classes, model_pred, baseline_pred, random_pred, label_ordering):\n",
        "    results = {}\n",
        "\n",
        "    for pred_type, predictions in [('Model', model_pred), ('Baseline', baseline_pred), ('Random', random_pred)]:\n",
        "        curr_results = results[pred_type] = {}\n",
        "\n",
        "        #Calculate metrics\n",
        "        accuracy = (predictions == labels).sum().item() / labels.size(0)\n",
        "        precision_per_class, recall_per_class, f1_per_class = per_class_metrics(labels, predictions, num_classes, label_ordering)\n",
        "        precision_macro, recall_macro, f1_macro = macro_metrics(labels, predictions)\n",
        "        precision_micro, recall_micro, f1_micro = micro_metrics(labels, predictions)\n",
        "\n",
        "        #Save all metrics\n",
        "        curr_results[\"Accuracy\"] = accuracy\n",
        "        curr_results[\"Per-Class Precision\"] = precision_per_class\n",
        "        curr_results[\"Per-Class Recall\"] = recall_per_class\n",
        "        curr_results[\"Per-Class F1\"] = f1_per_class\n",
        "\n",
        "        curr_results[\"Macro Precision\"] = precision_macro\n",
        "        curr_results[\"Macro Recall\"] = recall_macro\n",
        "        curr_results[\"Macro F1\"] = f1_macro\n",
        "\n",
        "        curr_results[\"Micro Precision\"]  = precision_micro\n",
        "        curr_results[\"Micro Recall\"] = recall_micro\n",
        "        curr_results[\"Micro F1\"] = f1_micro\n",
        "\n",
        "    return results"
      ],
      "metadata": {
        "id": "R1jhLEJriIV_"
      },
      "execution_count": 624,
      "outputs": []
    },
    {
      "cell_type": "code",
      "source": [
        "def evaluate_data(model, loader, num_classes, num_instances, label_ordering, orig_label_counts, device):\n",
        "    # Get model, baseline, and random predictions\n",
        "    #  Use model predictions to get the labels since the\n",
        "    #   loader might shuffle its values and might not be in the same order as y upon iteration\n",
        "    model_pred, labels = get_predictions(loader, model, num_instances, pred_type='model', device=device)\n",
        "    #  Get other prediction types as normal\n",
        "    baseline_pred = get_predictions(\n",
        "        loader, model, num_instances, pred_type='baseline',\n",
        "        label_ordering=label_ordering, orig_label_counts=orig_label_counts\n",
        "    )\n",
        "    random_pred = get_predictions(loader, model, num_instances, pred_type='random', num_classes=num_classes)\n",
        "\n",
        "    print()\n",
        "\n",
        "    # Print evaluation results\n",
        "    pprint.pprint(evaluate(labels, num_classes, model_pred, baseline_pred, random_pred, label_ordering))\n",
        "\n",
        "    # Generate confusion matrix\n",
        "    conf_matrix = confusion_matrix(labels, model_pred)\n",
        "    class_labels = label_ordering\n",
        "\n",
        "    #  Plot the confusion matrix as a heatmap\n",
        "    def plot_confusion_matrix(conf_matrix, class_labels):\n",
        "        sns.heatmap(\n",
        "            conf_matrix, annot=True, fmt='d', cmap='Blues', cbar=True,\n",
        "            xticklabels=class_labels, yticklabels=class_labels\n",
        "        )\n",
        "        plt.title('Confusion Matrix')\n",
        "        plt.xlabel('Predicted Labels')\n",
        "        plt.ylabel('True Labels')\n",
        "        plt.tight_layout()\n",
        "        plt.show()\n",
        "    print(\"\\n\")\n",
        "    plot_confusion_matrix(conf_matrix, class_labels)\n"
      ],
      "metadata": {
        "id": "9M-kBL9orNAt"
      },
      "execution_count": 625,
      "outputs": []
    },
    {
      "cell_type": "markdown",
      "source": [
        "###Val Set Results"
      ],
      "metadata": {
        "id": "Omc7vhluypSD"
      }
    },
    {
      "cell_type": "code",
      "source": [
        "X_val, _, _, _, y_val = as_tensors(\"valid\", label_encoder, input_vector_size, token_to_idx)\n",
        "val_dataset = TensorDataset(X_val, y_val)\n",
        "val_loader = DataLoader(val_dataset, batch_size=BATCH_SIZE, shuffle=True)"
      ],
      "metadata": {
        "colab": {
          "base_uri": "https://localhost:8080/"
        },
        "id": "PQ6XlNc4XiZb",
        "outputId": "df7581a7-e577-4584-d207-636d33a5a816"
      },
      "execution_count": 626,
      "outputs": [
        {
          "output_type": "stream",
          "name": "stdout",
          "text": [
            "The training dataset:\n",
            "<class 'pandas.core.frame.DataFrame'>\n",
            "Index: 861 entries, 0 to 1283\n",
            "Data columns (total 14 columns):\n",
            " #   Column                Non-Null Count  Dtype \n",
            "---  ------                --------------  ----- \n",
            " 0   id                    861 non-null    object\n",
            " 1   label                 861 non-null    object\n",
            " 2   claim                 861 non-null    object\n",
            " 3   subject               861 non-null    object\n",
            " 4   speaker               861 non-null    object\n",
            " 5   speaker_job_title     861 non-null    object\n",
            " 6   state_info            861 non-null    object\n",
            " 7   party_affiliation     861 non-null    object\n",
            " 8   barely_true_counts    861 non-null    int64 \n",
            " 9   false_counts          861 non-null    int64 \n",
            " 10  half_true_counts      861 non-null    int64 \n",
            " 11  mostly_true_counts    861 non-null    int64 \n",
            " 12  pants_on_fire_counts  861 non-null    int64 \n",
            " 13  context               861 non-null    object\n",
            "dtypes: int64(5), object(9)\n",
            "memory usage: 100.9+ KB\n",
            "\n",
            "Data peek:\n",
            "            id        label  \\\n",
            "0   12134.json  barely-true   \n",
            "2    7891.json        false   \n",
            "3    8169.json    half-true   \n",
            "4     929.json    half-true   \n",
            "5    9416.json        false   \n",
            "6    6861.json         true   \n",
            "8   13138.json         true   \n",
            "10  12803.json    half-true   \n",
            "12   7313.json    half-true   \n",
            "13   4809.json         true   \n",
            "14   1671.json  barely-true   \n",
            "15   4348.json    half-true   \n",
            "16   6225.json    half-true   \n",
            "17   7675.json  mostly-true   \n",
            "18   2255.json  barely-true   \n",
            "21  10337.json   pants-fire   \n",
            "25  10385.json  barely-true   \n",
            "26   5373.json  mostly-true   \n",
            "28  10376.json  mostly-true   \n",
            "29   8031.json   pants-fire   \n",
            "\n",
            "                                                claim  \\\n",
            "0   We have less Americans working now than in the...   \n",
            "2   Says Having organizations parading as being so...   \n",
            "3      Says nearly half of Oregons children are poor.   \n",
            "4   On attacks by Republicans that various program...   \n",
            "5   Says when armed civilians stop mass shootings ...   \n",
            "6   Says Tennessee is providing millions of dollar...   \n",
            "8   Says Donald Trump started his career back in 1...   \n",
            "10  John McCains chief economic adviser during the...   \n",
            "12  State revenue projections have missed the mark...   \n",
            "13  The median income of a middle class family wen...   \n",
            "14  Every citizen is entitled to the freedom of sp...   \n",
            "15  Rick Perry has advocated abandoning Social Sec...   \n",
            "16  Two thirds to three quarters of people without...   \n",
            "17  Congress has spent 66 of the first 100 days of...   \n",
            "18  Mark Sharpe has lowered property taxes by 17 p...   \n",
            "21  Says President Barack Obama has said that ever...   \n",
            "25  If people work and make more money, they lose ...   \n",
            "26  We are poised to get rid of over 1,000 more re...   \n",
            "28  Administrative employees at colleges and unive...   \n",
            "29  Private prison systems are calculating how man...   \n",
            "\n",
            "                                      subject            speaker  \\\n",
            "0                                economy,jobs     vicky-hartzler   \n",
            "2             campaign-finance,congress,taxes    earl-blumenauer   \n",
            "3                                     poverty    jim-francesconi   \n",
            "4                            economy,stimulus       barack-obama   \n",
            "5                                        guns         jim-rubens   \n",
            "6                      education,state-budget         andy-berke   \n",
            "8      candidates-biography,diversity,housing    hillary-clinton   \n",
            "10                                    economy          tim-kaine   \n",
            "12                               state-budget       steve-henson   \n",
            "13                  income,new-hampshire-2012          joe-biden   \n",
            "14                          gays-and-lesbians     david-dewhurst   \n",
            "15             medicaid,social-security,taxes   margaret-carlson   \n",
            "16  health-care,poverty,public-health,welfare  elizabeth-roberts   \n",
            "17                                   congress        john-barrow   \n",
            "18                 candidates-biography,taxes        mark-sharpe   \n",
            "21        civil-rights,crime,criminal-justice      rudy-giuliani   \n",
            "25                            poverty,welfare        marco-rubio   \n",
            "26    government-regulation,market-regulation         rick-scott   \n",
            "28                                  education        marco-rubio   \n",
            "29                            crime,education      kathleen-ford   \n",
            "\n",
            "                                speaker_job_title            state_info  \\\n",
            "0                             U.S. Representative              Missouri   \n",
            "2                             U.S. representative                Oregon   \n",
            "3   Member of the State Board of Higher Education                Oregon   \n",
            "4                                       President              Illinois   \n",
            "5                            Small business owner         New Hampshire   \n",
            "6                        Lawyer and state senator             Tennessee   \n",
            "8                          Presidential candidate              New York   \n",
            "10                                   U.S. Senator              Virginia   \n",
            "12                                  State Senator               Georgia   \n",
            "13                                   U.S. senator              Delaware   \n",
            "14                            Lieutenant governor                 Texas   \n",
            "15                                      Columnist  District of Columbia   \n",
            "16                            Lieutenant Governor          Rhode Island   \n",
            "17                                    Congressman               Georgia   \n",
            "18               Hillsborough County commissioner               Florida   \n",
            "21                                       Attorney              New York   \n",
            "25                                   U.S. Senator               Florida   \n",
            "26                                       Governor               Florida   \n",
            "28                                   U.S. Senator               Florida   \n",
            "29                                       Attorney               Florida   \n",
            "\n",
            "   party_affiliation  barely_true_counts  false_counts  half_true_counts  \\\n",
            "0         republican                   1             0                 1   \n",
            "2           democrat                   0             1                 1   \n",
            "3               none                   0             1                 1   \n",
            "4           democrat                  70            71               160   \n",
            "5         republican                   1             1                 0   \n",
            "6           democrat                   0             0                 0   \n",
            "8           democrat                  40            29                69   \n",
            "10          democrat                   8             3                15   \n",
            "12          democrat                   0             0                 1   \n",
            "13          democrat                  11            10                21   \n",
            "14        republican                   8             8                10   \n",
            "15              none                   0             0                 1   \n",
            "16          democrat                   1             0                 2   \n",
            "17          democrat                   0             0                 1   \n",
            "18        republican                   1             0                 0   \n",
            "21        republican                   9            11                10   \n",
            "25        republican                  33            24                32   \n",
            "26        republican                  28            23                38   \n",
            "28        republican                  33            24                32   \n",
            "29          democrat                   0             1                 0   \n",
            "\n",
            "    mostly_true_counts  pants_on_fire_counts  \\\n",
            "0                    0                     0   \n",
            "2                    1                     0   \n",
            "3                    1                     0   \n",
            "4                  163                     9   \n",
            "5                    1                     0   \n",
            "6                    0                     0   \n",
            "8                   76                     7   \n",
            "10                  15                     0   \n",
            "12                   0                     0   \n",
            "13                  16                     4   \n",
            "14                   5                     5   \n",
            "15                   0                     0   \n",
            "16                   0                     0   \n",
            "17                   1                     0   \n",
            "18                   0                     0   \n",
            "21                   7                     3   \n",
            "25                  35                     5   \n",
            "26                  34                     7   \n",
            "28                  35                     5   \n",
            "29                   1                     1   \n",
            "\n",
            "                                              context  \n",
            "0                        an interview with ABC17 News  \n",
            "2                       a U.S. Ways and Means hearing  \n",
            "3                                  an opinion article  \n",
            "4                             interview with CBS News  \n",
            "5         in an interview at gun shop in Hudson, N.H.  \n",
            "6   a letter to state Senate education committee c...  \n",
            "8                       the first presidential debate  \n",
            "10  a speech at the Democratic National Convention...  \n",
            "12                                    a press release  \n",
            "13  speaking at New Hampshire’s Plymouth State Uni...  \n",
            "14                                    a press release  \n",
            "15                                 a politics column.  \n",
            "16        a panel discussion on \"A Lively Experiment\"  \n",
            "17                                           a letter  \n",
            "18                                  a campaign mailer  \n",
            "21                           an interview on Fox News  \n",
            "25                        his book, \"American Dreams\"  \n",
            "26                                     speech at CPAC  \n",
            "28                                             a book  \n",
            "29                                    a mayoral forum  \n",
            "\n",
            "Tokenized sentences(861 sentences, 11524 total tokens) peek:\n",
            "  ['state', 'department', 'asked', 'secretaries', 'state', 'send', 'emails', 'over', '.', 'hillary', 'clintonsthe', 'one', 'whos', 'done', 'it', '.', '<PAD>']\n",
            "  ['question', '1', 'pass', 'nevada', ',', 'would', 'restrictive', 'gun', 'laws', 'nevada', 'dealing', 'transfer', 'firearms', 'california', '.', '<PAD>', '<PAD>']\n",
            "  ['debt', 'nearly', '$', '6', 'trillion', 'president', 'obama', 'sworn', 'office', '.', '<PAD>', '<PAD>', '<PAD>', '<PAD>', '<PAD>', '<PAD>', '<PAD>']\n",
            "  ['arizona', 'law', 'basically', 'parrots', 'federal', 'immigration', 'law', '.', '<PAD>', '<PAD>', '<PAD>', '<PAD>', '<PAD>', '<PAD>', '<PAD>', '<PAD>', '<PAD>']\n",
            "  ['says', 'mitt', 'romney', ',', 'governor', 'massachusetts', ',', 'put', 'place', 'socialized', 'medicine', '.', '<PAD>', '<PAD>', '<PAD>', '<PAD>', '<PAD>']\n",
            "  ['recently', ',', 'florida', 'successfully', 'reduced', 'environmental', 'permitting', 'time', 'two', 'days', '.', '<PAD>', '<PAD>', '<PAD>', '<PAD>', '<PAD>', '<PAD>']\n",
            "  ['medicare', 'medicaid', 'single', 'biggest', 'drivers', 'federal', 'deficit', 'federal', 'debt', 'huge', 'margin', '.', '<PAD>', '<PAD>', '<PAD>', '<PAD>', '<PAD>']\n",
            "  ['health', 'care', 'law', 'accelerating', 'country', 'toward', 'bankruptcy', '.', '<PAD>', '<PAD>', '<PAD>', '<PAD>', '<PAD>', '<PAD>', '<PAD>', '<PAD>', '<PAD>']\n",
            "  ['says', 'sen.', 'robert', 'cowles', ',', 'recall', 'opponent', ',', 'supported', 'sale', 'state-owned', 'power', 'plants', 'highest', 'bidder', ',', 'biggest']\n",
            "  ['austin', 'gone', '24th', 'congested', 'city', '10', 'years', 'ago', 'fourth', 'congested', 'congested', 'nyc', '.', '<PAD>', '<PAD>', '<PAD>', '<PAD>']\n",
            "  ['says', 'barack', 'obama', 'muslim', '.', '<PAD>', '<PAD>', '<PAD>', '<PAD>', '<PAD>', '<PAD>', '<PAD>', '<PAD>', '<PAD>', '<PAD>', '<PAD>', '<PAD>']\n",
            "  ['sherrod', 'brown', 'gave', 'huge', 'bonuses', 'executives', '.', '<PAD>', '<PAD>', '<PAD>', '<PAD>', '<PAD>', '<PAD>', '<PAD>', '<PAD>', '<PAD>', '<PAD>']\n",
            "  ['got', 'income', 'tax', '1913', ',', 'top', 'rate', '7', 'percent', '.', '1980', ',', 'top', 'rate', '70', 'percent', '.']\n",
            "  ['study', 'showed', 'president', 'barack', 'obamas', 'health-care', 'reforms', 'devastate', 'wisconsin', 'pushing', 'people', 'employer-sponsored', 'insurance', ',', 'driving', 'premiums', ',']\n",
            "  ['since', 'last', 'debated', 'las', 'vegas', ',', 'nearly', '3,000', 'people', 'killed', 'guns', '.', '<PAD>', '<PAD>', '<PAD>', '<PAD>', '<PAD>']\n",
            "  ['austin', 'tea', 'party', 'ultra-conservative', 'millionaire', 'behind', 'campaign', 'citys', 'light-rail', 'proposition', '.', '<PAD>', '<PAD>', '<PAD>', '<PAD>', '<PAD>', '<PAD>']\n",
            "  ['80', 'percent', 'sex', 'trafficking', 'victims', 'america', 'u.s.', 'citizens', '.', '<PAD>', '<PAD>', '<PAD>', '<PAD>', '<PAD>', '<PAD>', '<PAD>', '<PAD>']\n",
            "  ['know', 'many', 'children', 'history', 'united', 'states', 'died', 'fire', '(', 'at', 'school', ')', '?', 'zero', '.', '<PAD>', '<PAD>']\n",
            "  ['i', \"'m\", 'first', 'person', 'really', 'took', 'issue', 'war', '.', 'four', 'years', 'ago', 'said', 'proof', 'iraq', 'weapons', 'mass']\n",
            "  ['says', 'barack', 'obama', 'pension', 'investments', 'include', 'chinese', 'firms', ',', 'investments', 'caymans', 'trust', '.', '<PAD>', '<PAD>', '<PAD>', '<PAD>']\n",
            "\n",
            "10000 unique tokens\n",
            "Unique tokens peek:\n",
            "  maine\n",
            "  fixing\n",
            "  forest\n",
            "  writing\n",
            "  spray\n",
            "  socks\n",
            "  deficit\n",
            "  attempting\n",
            "  circle\n",
            "  troops\n",
            "  l.a\n",
            "  66,000\n",
            "  trucks\n",
            "  ninety-four\n",
            "  reduces\n",
            "  lloyd\n",
            "  hair\n",
            "  bullion\n",
            "  gone\n",
            "  advocates\n",
            "\n",
            "Final Index Sets(Set_Size = 17, 861 index sets) peek:\n",
            "  [137, 114, 475, 121, 3237, 9683, 628, 178, 86, 1047, 118, 1436, 2, 1, 1, 1, 1]\n",
            "  [102, 91, 272, 195, 841, 1342, 2, 1, 1, 1, 1, 1, 1, 1, 1, 1, 1]\n",
            "  [693, 3, 14, 55, 717, 13, 19, 2, 1, 1, 1, 1, 1, 1, 1, 1, 1]\n",
            "  [9714, 0, 0, 2889, 3076, 0, 86, 3428, 0, 115, 1057, 215, 979, 2, 1, 1, 1]\n",
            "  [537, 2201, 15, 34, 161, 4526, 2634, 9591, 55, 4265, 14, 6818, 69, 3, 853, 903, 3]\n",
            "  [4, 770, 24, 1239, 1344, 2021, 5, 642, 3789, 2, 1, 1, 1, 1, 1, 1, 1]\n",
            "  [3314, 0, 47, 543, 62, 978, 378, 1217, 4483, 98, 2, 1, 1, 1, 1, 1, 1]\n",
            "  [164, 1969, 0, 3, 140, 2066, 2231, 0, 8523, 41, 2, 1, 1, 1, 1, 1, 1]\n",
            "  [0, 1488, 67, 37, 489, 749, 1817, 77, 900, 3, 2296, 3, 1178, 860, 676, 2, 1]\n",
            "  [539, 368, 7712, 0, 0, 272, 2978, 8585, 7408, 0, 2, 1, 1, 1, 1, 1, 1]\n",
            "  [54, 44, 3, 8693, 608, 0, 3, 3687, 0, 0, 308, 393, 331, 77, 268, 348, 514]\n",
            "  [94, 164, 501, 0, 524, 22, 18, 2, 1, 1, 1, 1, 1, 1, 1, 1, 1]\n",
            "  [4, 0, 511, 338, 275, 479, 41, 194, 15, 37, 44, 2, 1, 1, 1, 1, 1]\n",
            "  [4, 99, 2, 129, 249, 882, 9681, 83, 11, 2873, 522, 711, 2056, 2, 1, 1, 1]\n",
            "  [7, 54, 591, 9, 193, 8, 136, 0, 21, 0, 1498, 578, 4654, 4246, 2, 1, 1]\n",
            "  [4, 770, 24, 1239, 1344, 2021, 5, 642, 3789, 2, 1, 1, 1, 1, 1, 1, 1]\n",
            "  [1511, 1191, 20, 106, 98, 276, 5, 63, 31, 521, 2, 1, 1, 1, 1, 1, 1]\n",
            "  [4, 0, 511, 338, 275, 479, 41, 194, 15, 37, 44, 2, 1, 1, 1, 1, 1]\n",
            "  [0, 2, 6461, 3, 354, 9667, 37, 3, 0, 118, 354, 4638, 8955, 782, 144, 4055, 217]\n",
            "  [39, 130, 2339, 0, 0, 53, 1547, 0, 4452, 3136, 2211, 23, 5437, 241, 2, 1, 1]\n",
            "VALID SPLIT: 861 overall samples: torch.Size([861, 17])\n"
          ]
        }
      ]
    },
    {
      "cell_type": "code",
      "source": [
        "evaluate_data(gru_model, val_loader, OUTPUT_DIM, y_val.size(0), label_encoder.classes_, train_label_counts, device)"
      ],
      "metadata": {
        "colab": {
          "base_uri": "https://localhost:8080/",
          "height": 1000
        },
        "id": "0RoqjV280aTD",
        "outputId": "9a7aeef3-424e-407c-ed5e-6780b8901cbd"
      },
      "execution_count": 627,
      "outputs": [
        {
          "output_type": "stream",
          "name": "stdout",
          "text": [
            "\n",
            "{'Baseline': {'Accuracy': 0.17886178861788618,\n",
            "              'Macro F1': 0.05057471264367816,\n",
            "              'Macro Precision': 0.02981029810298103,\n",
            "              'Macro Recall': 0.16666666666666666,\n",
            "              'Micro F1': 0.17886178861788618,\n",
            "              'Micro Precision': 0.17886178861788618,\n",
            "              'Micro Recall': 0.17886178861788618,\n",
            "              'Per-Class F1': {'barely-true': 0.30344827586206896,\n",
            "                               'false': 0.0,\n",
            "                               'half-true': 0.0,\n",
            "                               'mostly-true': 0.0,\n",
            "                               'pants-fire': 0.0,\n",
            "                               'true': 0.0},\n",
            "              'Per-Class Precision': {'barely-true': 0.17886178861788618,\n",
            "                                      'false': 0.0,\n",
            "                                      'half-true': 0.0,\n",
            "                                      'mostly-true': 0.0,\n",
            "                                      'pants-fire': 0.0,\n",
            "                                      'true': 0.0},\n",
            "              'Per-Class Recall': {'barely-true': 1.0,\n",
            "                                   'false': 0.0,\n",
            "                                   'half-true': 0.0,\n",
            "                                   'mostly-true': 0.0,\n",
            "                                   'pants-fire': 0.0,\n",
            "                                   'true': 0.0}},\n",
            " 'Model': {'Accuracy': 0.20789779326364694,\n",
            "           'Macro F1': 0.20026583698418435,\n",
            "           'Macro Precision': 0.20369410063700014,\n",
            "           'Macro Recall': 0.2030349982335811,\n",
            "           'Micro F1': 0.20789779326364694,\n",
            "           'Micro Precision': 0.20789779326364694,\n",
            "           'Micro Recall': 0.20789779326364694,\n",
            "           'Per-Class F1': {'barely-true': 0.14814814814814814,\n",
            "                            'false': 0.2084507042253521,\n",
            "                            'half-true': 0.19584569732937684,\n",
            "                            'mostly-true': 0.2471264367816092,\n",
            "                            'pants-fire': 0.1568627450980392,\n",
            "                            'true': 0.24516129032258063},\n",
            "           'Per-Class Precision': {'barely-true': 0.1724137931034483,\n",
            "                                   'false': 0.20555555555555555,\n",
            "                                   'half-true': 0.2037037037037037,\n",
            "                                   'mostly-true': 0.24571428571428572,\n",
            "                                   'pants-fire': 0.19047619047619047,\n",
            "                                   'true': 0.20430107526881722},\n",
            "           'Per-Class Recall': {'barely-true': 0.12987012987012986,\n",
            "                                'false': 0.21142857142857144,\n",
            "                                'half-true': 0.18857142857142858,\n",
            "                                'mostly-true': 0.24855491329479767,\n",
            "                                'pants-fire': 0.13333333333333333,\n",
            "                                'true': 0.3064516129032258}},\n",
            " 'Random': {'Accuracy': 0.16376306620209058,\n",
            "            'Macro F1': 0.15893434560776157,\n",
            "            'Macro Precision': 0.16412490010061467,\n",
            "            'Macro Recall': 0.16209241532288335,\n",
            "            'Micro F1': 0.16376306620209058,\n",
            "            'Micro Precision': 0.16376306620209058,\n",
            "            'Micro Recall': 0.16376306620209058,\n",
            "            'Per-Class F1': {'barely-true': 0.16233766233766234,\n",
            "                             'false': 0.18012422360248448,\n",
            "                             'half-true': 0.1962025316455696,\n",
            "                             'mostly-true': 0.1758957654723127,\n",
            "                             'pants-fire': 0.08866995073891626,\n",
            "                             'true': 0.15037593984962405},\n",
            "            'Per-Class Precision': {'barely-true': 0.16233766233766234,\n",
            "                                    'false': 0.19727891156462585,\n",
            "                                    'half-true': 0.2198581560283688,\n",
            "                                    'mostly-true': 0.20149253731343283,\n",
            "                                    'pants-fire': 0.06293706293706294,\n",
            "                                    'true': 0.14084507042253522},\n",
            "            'Per-Class Recall': {'barely-true': 0.16233766233766234,\n",
            "                                 'false': 0.1657142857142857,\n",
            "                                 'half-true': 0.17714285714285713,\n",
            "                                 'mostly-true': 0.15606936416184972,\n",
            "                                 'pants-fire': 0.15,\n",
            "                                 'true': 0.16129032258064516}}}\n",
            "\n",
            "\n"
          ]
        },
        {
          "output_type": "display_data",
          "data": {
            "text/plain": [
              "<Figure size 640x480 with 2 Axes>"
            ],
            "image/png": "[encoded data removed]"
          },
          "metadata": {}
        }
      ]
    },
    {
      "cell_type": "markdown",
      "source": [
        "###Test Set Results"
      ],
      "metadata": {
        "id": "ZSiUSiQyyrv7"
      }
    },
    {
      "cell_type": "code",
      "source": [
        "X_test, _, _, _, y_test = as_tensors(\"test\", label_encoder, input_vector_size, token_to_idx)\n",
        "test_dataset = TensorDataset(X_test, y_test)\n",
        "test_loader = DataLoader(test_dataset, batch_size=BATCH_SIZE, shuffle=True)"
      ],
      "metadata": {
        "id": "gsbtpOWyXts-"
      },
      "execution_count": null,
      "outputs": []
    },
    {
      "cell_type": "code",
      "source": [
        "evaluate_data(gru_model, test_loader, OUTPUT_DIM, y_test.size(0), label_encoder.classes_, train_label_counts, device)"
      ],
      "metadata": {
        "id": "kYP1iQKXyuMQ"
      },
      "execution_count": null,
      "outputs": []
    }
  ],
  "metadata": {
    "kernelspec": {
      "display_name": "Python 3",
      "name": "python3"
    },
    "language_info": {
      "codemirror_mode": {
        "name": "ipython",
        "version": 3
      },
      "file_extension": ".py",
      "mimetype": "text/x-python",
      "name": "python",
      "nbconvert_exporter": "python",
      "pygments_lexer": "ipython3",
      "version": "3.12.7"
    },
    "colab": {
      "provenance": [],
      "gpuType": "T4",
      "collapsed_sections": [
        "ZSiUSiQyyrv7"
      ]
    },
    "accelerator": "GPU"
  },
  "nbformat": 4,
  "nbformat_minor": 0
}