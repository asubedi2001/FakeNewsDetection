{
 "cells": [
  {
   "cell_type": "code",
   "execution_count": 63,
   "metadata": {
    "id": "Ozyb-vXSAMtT"
   },
   "outputs": [],
   "source": [
    "import numpy as np\n",
    "import pandas as pd\n",
    "import re\n",
    "import nltk\n",
    "import torch\n",
    "import torch.nn as nn\n",
    "from torch.utils.data import DataLoader, TensorDataset, random_split\n",
    "import torch.optim as optim\n",
    "from nltk.corpus import stopwords\n",
    "from collections import Counter\n",
    "from sklearn.preprocessing import LabelEncoder\n",
    "from sklearn.model_selection import train_test_split\n",
    "from sklearn.metrics import precision_score, recall_score, f1_score, confusion_matrix\n",
    "import random\n",
    "import pprint"
   ]
  },
  {
   "cell_type": "code",
   "execution_count": 64,
   "metadata": {
    "colab": {
     "base_uri": "https://localhost:8080/"
    },
    "id": "cF0LGpIbKgBP",
    "outputId": "07dc46d3-92d5-4977-f959-c7a8d7a571a0"
   },
   "outputs": [
    {
     "name": "stderr",
     "output_type": "stream",
     "text": [
      "[nltk_data] Downloading package stopwords to /root/nltk_data...\n",
      "[nltk_data]   Package stopwords is already up-to-date!\n",
      "[nltk_data] Downloading package punkt_tab to /root/nltk_data...\n",
      "[nltk_data]   Package punkt_tab is already up-to-date!\n",
      "[nltk_data] Downloading package punkt to /root/nltk_data...\n",
      "[nltk_data]   Package punkt is already up-to-date!\n"
     ]
    },
    {
     "data": {
      "text/plain": [
       "True"
      ]
     },
     "execution_count": 64,
     "metadata": {},
     "output_type": "execute_result"
    }
   ],
   "source": [
    "nltk.download('stopwords')\n",
    "nltk.download('punkt_tab')\n",
    "nltk.download('punkt')"
   ]
  },
  {
   "cell_type": "markdown",
   "metadata": {
    "id": "6vGZJybiAMtV"
   },
   "source": [
    "## Read in data"
   ]
  },
  {
   "cell_type": "code",
   "execution_count": 65,
   "metadata": {
    "id": "BCo7k9jXdxOe"
   },
   "outputs": [],
   "source": [
    "peek = 10\n",
    "def present_list_like(name, list_like, peek=peek):\n",
    "    print(f\"{name} peek:\")\n",
    "    print('  ' + '\\n  '.join([str(seq) for seq in list_like[0:peek]]))"
   ]
  },
  {
   "cell_type": "code",
   "execution_count": 66,
   "metadata": {
    "colab": {
     "base_uri": "https://localhost:8080/"
    },
    "id": "5lNu54LNAMtV",
    "outputId": "d3117b0d-a30c-4ab6-8ba6-ef21efe2f573"
   },
   "outputs": [
    {
     "name": "stdout",
     "output_type": "stream",
     "text": [
      "The dataset:\n",
      "<class 'pandas.core.frame.DataFrame'>\n",
      "RangeIndex: 6591 entries, 0 to 6590\n",
      "Data columns (total 4 columns):\n",
      " #   Column            Non-Null Count  Dtype \n",
      "---  ------            --------------  ----- \n",
      " 0   misconception_id  6591 non-null   int64 \n",
      " 1   misconception     6591 non-null   object\n",
      " 2   tweet_id          6591 non-null   int64 \n",
      " 3   label             6591 non-null   object\n",
      "dtypes: int64(2), object(2)\n",
      "memory usage: 206.1+ KB\n",
      "\n",
      "Data peek:\n",
      "   misconception_id                                      misconception  \\\n",
      "0                 3             Coronavirus is genetically engineered.   \n",
      "1                30  Blowing conch shells destroys coronavirus pote...   \n",
      "2                57  Swans and dolphins swimming in Venice canals f...   \n",
      "3                22                         Cocaine cures coronavirus.   \n",
      "4                32  Observing janata curfew will result in the red...   \n",
      "5                25  Holy communion cannot be the cause of the spre...   \n",
      "6                61  Lions were freed to keep people off the street...   \n",
      "7                 3             Coronavirus is genetically engineered.   \n",
      "8                40                Cannabis protects against COVID-19.   \n",
      "9                50  It is safe for individuals infected with COVID...   \n",
      "\n",
      "              tweet_id label  \n",
      "0  1233965490948591616    na  \n",
      "1  1233907923765559296    na  \n",
      "2  1233911842910720000    na  \n",
      "3  1233947734094290944    na  \n",
      "4  1233937085297332224    na  \n",
      "5  1233955845756653568    na  \n",
      "6  1233917889557692416    na  \n",
      "7  1233952635725778944    na  \n",
      "8  1233940738439815168    na  \n",
      "9  1233920123183828992    na  \n",
      "\n",
      "Unique labels: ['na' 'neg' 'pos']\n",
      "Counts of 'labels': label\n",
      "na     0.932939\n",
      "pos    0.043696\n",
      "neg    0.023365\n",
      "Name: proportion, dtype: float64\n"
     ]
    }
   ],
   "source": [
    "#Read data from covid_lies.csv dataset into dataframe\n",
    "df = pd.read_csv('./data/covid_lies.csv')\n",
    "print(\"The dataset:\")\n",
    "df.info()\n",
    "print(\"\\nData peek:\")\n",
    "print(df.head(peek))\n",
    "print()\n",
    "\n",
    "#Seperate out text data and labels\n",
    "input_text = df['misconception'].to_numpy()\n",
    "input_label = df['label'].to_numpy()\n",
    "print(\"Unique labels:\", np.unique(input_label))\n",
    "orig_label_counts = df['label'].value_counts(normalize=True)\n",
    "print(\"Counts of 'labels':\", orig_label_counts)"
   ]
  },
  {
   "cell_type": "code",
   "execution_count": 67,
   "metadata": {
    "colab": {
     "base_uri": "https://localhost:8080/"
    },
    "id": "4hxqtJcLvmir",
    "outputId": "a1578e02-b31c-4e31-c566-a7d01bcf5fd3"
   },
   "outputs": [
    {
     "name": "stdout",
     "output_type": "stream",
     "text": [
      "The dataset:\n",
      "<class 'pandas.core.frame.DataFrame'>\n",
      "Index: 18447 entries, 0 to 2179\n",
      "Data columns (total 4 columns):\n",
      " #   Column            Non-Null Count  Dtype \n",
      "---  ------            --------------  ----- \n",
      " 0   misconception_id  18447 non-null  int64 \n",
      " 1   misconception     18447 non-null  object\n",
      " 2   tweet_id          18447 non-null  int64 \n",
      " 3   label             18447 non-null  object\n",
      "dtypes: int64(2), object(2)\n",
      "memory usage: 720.6+ KB\n",
      "\n",
      "Data peek:\n",
      "   misconception_id                                      misconception  \\\n",
      "0                 3             Coronavirus is genetically engineered.   \n",
      "1                30  Blowing conch shells destroys coronavirus pote...   \n",
      "2                57  Swans and dolphins swimming in Venice canals f...   \n",
      "3                22                         Cocaine cures coronavirus.   \n",
      "4                32  Observing janata curfew will result in the red...   \n",
      "5                25  Holy communion cannot be the cause of the spre...   \n",
      "6                61  Lions were freed to keep people off the street...   \n",
      "7                 3             Coronavirus is genetically engineered.   \n",
      "8                40                Cannabis protects against COVID-19.   \n",
      "9                50  It is safe for individuals infected with COVID...   \n",
      "\n",
      "              tweet_id label  \n",
      "0  1233965490948591616    na  \n",
      "1  1233907923765559296    na  \n",
      "2  1233911842910720000    na  \n",
      "3  1233947734094290944    na  \n",
      "4  1233937085297332224    na  \n",
      "5  1233955845756653568    na  \n",
      "6  1233917889557692416    na  \n",
      "7  1233952635725778944    na  \n",
      "8  1233940738439815168    na  \n",
      "9  1233920123183828992    na  \n",
      "\n",
      "Unique labels: ['na' 'neg' 'pos']\n",
      "Counts of 'labels': label\n",
      "na     0.333333\n",
      "pos    0.333333\n",
      "neg    0.333333\n",
      "Name: proportion, dtype: float64\n"
     ]
    }
   ],
   "source": [
    "#Balance the dataset\n",
    "\n",
    "from sklearn.utils import resample\n",
    "\n",
    "df_majority = df[df['label'] == 'na']\n",
    "df_minority_1 = df[df['label'] == 'pos']\n",
    "df_minority_2 = df[df['label'] == 'neg']\n",
    "\n",
    "# Upsample minority classes\n",
    "df_minority_1_upsampled = resample(\n",
    "    df_minority_1, replace=True, n_samples=len(df_majority),  random_state=42\n",
    ")\n",
    "df_minority_2_upsampled = resample(\n",
    "    df_minority_2, replace=True, n_samples=len(df_majority), random_state=42\n",
    ")\n",
    "\n",
    "# Create the balanced df out of the new sample sets\n",
    "df_balanced = pd.concat([df_majority, df_minority_1_upsampled, df_minority_2_upsampled])\n",
    "\n",
    "# Present the new df\n",
    "print(\"The dataset:\")\n",
    "df_balanced.info()\n",
    "print(\"\\nData peek:\")\n",
    "print(df_balanced.head(peek))\n",
    "print()\n",
    "\n",
    "# Seperate out text data and labels\n",
    "input_text = df_balanced['misconception'].to_numpy()\n",
    "input_label = df_balanced['label'].to_numpy()\n",
    "print(\"Unique labels:\", np.unique(input_label))\n",
    "print(\"Counts of 'labels':\", df_balanced['label'].value_counts(normalize=True))"
   ]
  },
  {
   "cell_type": "markdown",
   "metadata": {
    "id": "jNsUDJdhAMtW"
   },
   "source": [
    "## Preprocess input data"
   ]
  },
  {
   "cell_type": "code",
   "execution_count": 68,
   "metadata": {
    "id": "z8PtD24vAMtW"
   },
   "outputs": [],
   "source": [
    "def preprocess_text(text)->str:\n",
    "    #Letter-level cleaning\n",
    "    text = text.lower()\n",
    "    valid_asciis = {9, *range(32, 127)}\n",
    "    text = ''.join(filter(lambda x: ord(x) in valid_asciis, text))\n",
    "\n",
    "    #Word/sequence-level cleaning\n",
    "    text = re.sub(r'\\s+', ' ', text)\n",
    "    text = re.sub(r'http\\S+', '', text)\n",
    "    stop_words = set(stopwords.words('english'))\n",
    "    text = ' '.join(word for word in text.split() if word not in stop_words)\n",
    "    return text\n"
   ]
  },
  {
   "cell_type": "code",
   "execution_count": 69,
   "metadata": {
    "id": "z-l4_oDDUSLj"
   },
   "outputs": [],
   "source": [
    "#Preprocess the text\n",
    "for i in range(len(input_text)):\n",
    "    input_text[i] = preprocess_text(input_text[i])"
   ]
  },
  {
   "cell_type": "markdown",
   "metadata": {
    "id": "gwmzm7pYAMtW"
   },
   "source": [
    "## Tokenize input text data"
   ]
  },
  {
   "cell_type": "code",
   "execution_count": 70,
   "metadata": {
    "colab": {
     "base_uri": "https://localhost:8080/"
    },
    "id": "QvKgthj0WYNm",
    "outputId": "e0af97f4-bd6d-410a-e0e4-068668cd3f36"
   },
   "outputs": [
    {
     "name": "stdout",
     "output_type": "stream",
     "text": [
      "Tokenized sentences(18447 sentences, 133252 tokens) peek:\n",
      "  ['coronavirus', 'genetically', 'engineered', '.']\n",
      "  ['blowing', 'conch', 'shells', 'destroys', 'coronavirus', 'potency', '.']\n",
      "  ['swans', 'dolphins', 'swimming', 'venice', 'canals', 'following', 'covid', '-', '19', 'lockdown', '.']\n",
      "  ['cocaine', 'cures', 'coronavirus', '.']\n",
      "  ['observing', 'janata', 'curfew', 'result', 'reduction', 'covid', '-', '19', 'cases', '40', '%', '.']\n",
      "  ['holy', 'communion', 'can', 'not', 'cause', 'spread', 'coronavirus']\n",
      "  ['lions', 'freed', 'keep', 'people', 'streets', 'moscow', '.']\n",
      "  ['coronavirus', 'genetically', 'engineered', '.']\n",
      "  ['cannabis', 'protects', 'covid', '-', '19', '.']\n",
      "  ['safe', 'individuals', 'infected', 'covid', '-', '19', 'go', 'work', '.']\n"
     ]
    }
   ],
   "source": [
    "#Tokenize the text\n",
    "\n",
    "input_tokens = [nltk.word_tokenize(text) for text in input_text]\n",
    "\n",
    "# Split tokens based on non-alphanumeric characters\n",
    "final_tokens = []\n",
    "total_tokens = 0\n",
    "for token_set in input_tokens:\n",
    "    final_tkn_set = []\n",
    "    for tk in token_set:\n",
    "        sub_tkns = [c for c in re.split(r\"(\\W+)\", tk) if c]\n",
    "        total_tokens += len(sub_tkns)\n",
    "        final_tkn_set += sub_tkns\n",
    "    final_tokens.append(final_tkn_set)\n",
    "present_list_like(f\"Tokenized sentences({len(final_tokens)} sentences, {total_tokens} tokens)\", final_tokens)"
   ]
  },
  {
   "cell_type": "markdown",
   "metadata": {
    "id": "Fg2l2lJsAMtX"
   },
   "source": [
    "## Form embeddings for input data"
   ]
  },
  {
   "cell_type": "code",
   "execution_count": 71,
   "metadata": {
    "colab": {
     "base_uri": "https://localhost:8080/"
    },
    "id": "xR1GIMwXbRzb",
    "outputId": "c8b17f97-e299-4ca5-a83e-9d2a3c465808"
   },
   "outputs": [
    {
     "name": "stdout",
     "output_type": "stream",
     "text": [
      "266 unique tokens\n",
      "Unique tokens peek:\n",
      "  .\n",
      "  -\n",
      "  coronavirus\n",
      "  covid\n",
      "  19\n",
      "  deadly\n",
      "  seasonal\n",
      "  flu\n",
      "  survive\n",
      "  cure\n",
      "\n",
      "Final Index Sets(Set_Size = 19, 18447 index sets) peek:\n",
      "  [3, 15, 16, 1, 0, 0, 0, 0, 0, 0, 0, 0, 0, 0, 0, 0, 0, 0, 0]\n",
      "  [134, 135, 136, 137, 3, 138, 1, 0, 0, 0, 0, 0, 0, 0, 0, 0, 0, 0, 0]\n",
      "  [165, 166, 167, 99, 100, 62, 4, 2, 5, 63, 1, 0, 0, 0, 0, 0, 0, 0, 0]\n",
      "  [168, 30, 3, 1, 0, 0, 0, 0, 0, 0, 0, 0, 0, 0, 0, 0, 0, 0, 0]\n",
      "  [241, 242, 243, 244, 245, 4, 2, 5, 246, 247, 248, 1, 0, 0, 0, 0, 0, 0, 0]\n",
      "  [22, 23, 17, 18, 24, 19, 3, 0, 0, 0, 0, 0, 0, 0, 0, 0, 0, 0, 0]\n",
      "  [169, 170, 171, 172, 96, 173, 1, 0, 0, 0, 0, 0, 0, 0, 0, 0, 0, 0, 0]\n",
      "  [3, 15, 16, 1, 0, 0, 0, 0, 0, 0, 0, 0, 0, 0, 0, 0, 0, 0, 0]\n",
      "  [174, 66, 4, 2, 5, 1, 0, 0, 0, 0, 0, 0, 0, 0, 0, 0, 0, 0, 0]\n",
      "  [108, 109, 74, 4, 2, 5, 110, 111, 1, 0, 0, 0, 0, 0, 0, 0, 0, 0, 0]\n"
     ]
    }
   ],
   "source": [
    "#Embed the tokens\n",
    "\n",
    "# Map each token to its frequency in the dataset\n",
    "flat_tokens = [word for token_set in final_tokens for word in token_set]\n",
    "frequencies = Counter(flat_tokens)\n",
    "token_to_idx = {word: idx+1 for idx, (word, _) in enumerate(frequencies.most_common())}\n",
    "vocab_size = len(token_to_idx)\n",
    "print(vocab_size, \"unique tokens\")\n",
    "present_list_like(\"Unique tokens\", list(token_to_idx.keys()))\n",
    "\n",
    "# Embed the tokens\n",
    "freq_indexed = [[token_to_idx[token] for token in token_set] for token_set in final_tokens]\n",
    "\n",
    "# Make embeddings the same size\n",
    "forced_idx_set_size = max(len(idxs) for idxs in freq_indexed)\n",
    "freq_indexed = [\n",
    "    idxs[:forced_idx_set_size] + [0]*(forced_idx_set_size - len(idxs))\n",
    "    for idxs in freq_indexed\n",
    "]\n",
    "present_list_like(f\"\\nFinal Index Sets(Set_Size = {forced_idx_set_size}, {len(freq_indexed)} index sets)\", freq_indexed)"
   ]
  },
  {
   "cell_type": "markdown",
   "metadata": {
    "id": "0YKnA7ShAMtX"
   },
   "source": [
    "## Define and train a GRU model using PyTorch"
   ]
  },
  {
   "cell_type": "code",
   "execution_count": 72,
   "metadata": {
    "id": "ON_dnwJThucS"
   },
   "outputs": [],
   "source": [
    "#Define the model\n",
    "\n",
    "import torch\n",
    "import torch.nn as nn\n",
    "\n",
    "class GRUModel(nn.Module):\n",
    "    def __init__(self, input_dim, embedding_dim, hidden_dim, output_dim, n_layers, dropout):\n",
    "        super(GRUModel, self).__init__()\n",
    "        self.embedding = nn.Embedding(input_dim, embedding_dim)\n",
    "        self.gru = nn.GRU(embedding_dim, hidden_dim, num_layers=n_layers, batch_first=True, dropout=dropout)\n",
    "        self.fc = nn.Linear(hidden_dim, output_dim)\n",
    "        self.sm = nn.Softmax(dim=-1)\n",
    "\n",
    "    def forward(self, x):\n",
    "        _, hidden = self.gru(self.embedding(x))\n",
    "        fc = self.fc(hidden[-1])\n",
    "        return self.sm(fc)"
   ]
  },
  {
   "cell_type": "code",
   "execution_count": 73,
   "metadata": {
    "id": "u0U6Zv2v77Ku"
   },
   "outputs": [],
   "source": [
    "#Training fn\n",
    "def train_model(model, dataloader, optimizer, criterion, device, epochs=10):\n",
    "    model.train()\n",
    "    for epoch in range(epochs):\n",
    "        epoch_loss = 0\n",
    "        epoch_accuracy = 0\n",
    "\n",
    "        for inputs, labels in dataloader:\n",
    "            inputs, labels = inputs.to(device), labels.to(device)\n",
    "\n",
    "            optimizer.zero_grad()\n",
    "            predictions = model(inputs).squeeze()\n",
    "            loss = criterion(predictions, labels)\n",
    "            loss.backward()\n",
    "            optimizer.step()\n",
    "\n",
    "            epoch_loss += loss.item() #Track total loss\n",
    "            #Track total accuracy\n",
    "            _, predicted_classes = torch.max(predictions, 1)\n",
    "            accuracy = (predicted_classes == labels).sum().item() / labels.size(0)\n",
    "            epoch_accuracy += accuracy\n",
    "\n",
    "        print(f\"Epoch {epoch+1}/{epochs} | Loss: {epoch_loss/len(dataloader):.4f} | Accuracy: {epoch_accuracy/len(dataloader):.4f}\")"
   ]
  },
  {
   "cell_type": "code",
   "execution_count": 74,
   "metadata": {
    "colab": {
     "base_uri": "https://localhost:8080/"
    },
    "id": "XMnIo7dVAMtX",
    "outputId": "d7a5746a-4a75-429f-e228-c77068f06ca9"
   },
   "outputs": [
    {
     "name": "stdout",
     "output_type": "stream",
     "text": [
      "18447 overall samples of shape torch.Size([18447, 19])\n",
      "14757 training samples of shape torch.Size([14757, 19])\n",
      "3690 validation samples of shape torch.Size([3690, 19])\n"
     ]
    }
   ],
   "source": [
    "#Setup to train\n",
    "\n",
    "# Model and training structure\n",
    "INPUT_DIM = vocab_size + 1\n",
    "EMBEDDING_DIM = 100\n",
    "HIDDEN_DIM = 128\n",
    "OUTPUT_DIM = 3 #pos, neg, na\n",
    "N_LAYERS = 2\n",
    "DROPOUT = 0.5\n",
    "BATCH_SIZE = 32\n",
    "EPOCHS = 15\n",
    "\n",
    "# Make the model\n",
    "gru_model = GRUModel(INPUT_DIM, EMBEDDING_DIM, HIDDEN_DIM, OUTPUT_DIM, N_LAYERS, DROPOUT)\n",
    "\n",
    "# Optimization & loss setup\n",
    "optimizer = torch.optim.Adam(gru_model.parameters(), lr=0.001)\n",
    "criterion = nn.CrossEntropyLoss()\n",
    "\n",
    "# Move model to GPU if possible\n",
    "device = torch.device('cuda' if torch.cuda.is_available() else 'cpu')\n",
    "gru_model = gru_model.to(device)\n",
    "criterion = criterion.to(device)\n",
    "\n",
    "# Setup the training dataset\n",
    "X = torch.tensor(freq_indexed, dtype=torch.long)\n",
    "label_encoder = LabelEncoder()\n",
    "y = label_encoder.fit_transform(input_label)\n",
    "y = torch.tensor(y, dtype=torch.long)\n",
    "print(X.size(0), \"overall samples of shape\", X.shape)\n",
    "\n",
    "X_train, X_test, y_train, y_test = train_test_split(X.numpy(), y.numpy(), test_size=0.2, random_state=42)\n",
    "X_train, X_test = torch.tensor(X_train, dtype=torch.long), torch.tensor(X_test, dtype=torch.long)\n",
    "y_train, y_test = torch.tensor(y_train, dtype=torch.long), torch.tensor(y_test, dtype=torch.long)\n",
    "print(X_train.size(0), \"training samples of shape\", X_train.shape)\n",
    "print(y_test.size(0), \"validation samples of shape\", X_test.shape)\n",
    "train_dataset = TensorDataset(X_train, y_train)\n",
    "test_dataset = TensorDataset(X_test, y_test)\n",
    "train_loader = DataLoader(train_dataset, batch_size=BATCH_SIZE, shuffle=True)\n",
    "test_loader = DataLoader(test_dataset, batch_size=BATCH_SIZE, shuffle=True)"
   ]
  },
  {
   "cell_type": "code",
   "execution_count": null,
   "metadata": {
    "colab": {
     "base_uri": "https://localhost:8080/"
    },
    "id": "dGvlx_i27-JI",
    "outputId": "cd63a3cb-c904-4822-b69c-502b1af95b93"
   },
   "outputs": [],
   "source": [
    "#Train the model\n",
    "train_model(gru_model, train_loader, optimizer, criterion, device, EPOCHS)"
   ]
  },
  {
   "cell_type": "markdown",
   "metadata": {
    "id": "NWNwH4d3AMtX"
   },
   "source": [
    "## Save Model Weights"
   ]
  },
  {
   "cell_type": "code",
   "execution_count": 75,
   "metadata": {
    "colab": {
     "base_uri": "https://localhost:8080/"
    },
    "id": "nqUf6cLwiUYy",
    "outputId": "b6057d31-d062-4be5-971c-fb59cc295f7b"
   },
   "outputs": [
    {
     "name": "stdout",
     "output_type": "stream",
     "text": [
      "Model weights saved to 'gru_model_weights.pth'\n"
     ]
    }
   ],
   "source": [
    "#Save the model weights\n",
    "torch.save(gru_model.state_dict(), \"gru_model_weights.pth\")\n",
    "print(\"Model weights saved to 'gru_model_weights.pth'\")"
   ]
  },
  {
   "cell_type": "markdown",
   "metadata": {
    "id": "j5c__mmaAMtX"
   },
   "source": [
    "## Evaluate Model"
   ]
  }
 ],
 "metadata": {
  "colab": {
   "provenance": []
  },
  "kernelspec": {
   "display_name": "Python 3",
   "name": "python3"
  },
  "language_info": {
   "codemirror_mode": {
    "name": "ipython",
    "version": 3
   },
   "file_extension": ".py",
   "mimetype": "text/x-python",
   "name": "python",
   "nbconvert_exporter": "python",
   "pygments_lexer": "ipython3",
   "version": "3.12.7"
  }
 },
 "nbformat": 4,
 "nbformat_minor": 0
}
