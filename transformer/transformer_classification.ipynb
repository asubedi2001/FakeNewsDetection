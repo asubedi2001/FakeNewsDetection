{
 "cells": [
  {
   "cell_type": "markdown",
   "metadata": {},
   "source": [
    "### Handle Imports"
   ]
  },
  {
   "cell_type": "code",
   "execution_count": 24,
   "metadata": {},
   "outputs": [],
   "source": [
    "import torch\n",
    "from tqdm.auto import tqdm\n",
    "import pandas as pd\n",
    "import numpy as np\n",
    "import pprint"
   ]
  },
  {
   "cell_type": "markdown",
   "metadata": {},
   "source": [
    "### Check if PyTorch recognizes GPU"
   ]
  },
  {
   "cell_type": "code",
   "execution_count": 25,
   "metadata": {},
   "outputs": [
    {
     "name": "stdout",
     "output_type": "stream",
     "text": [
      "cuda\n"
     ]
    }
   ],
   "source": [
    "device = torch.device(\"cuda\" if torch.cuda.is_available() else \"cpu\")\n",
    "print(device)"
   ]
  },
  {
   "cell_type": "markdown",
   "metadata": {},
   "source": [
    "### Read in dataset"
   ]
  },
  {
   "cell_type": "code",
   "execution_count": 27,
   "metadata": {},
   "outputs": [],
   "source": [
    "columns = [\n",
    "    'id', 'label', 'claim', 'subject', 'speaker', 'speaker_job_title', 'state_info',\n",
    "    'party_affiliation', 'barely_true_counts', 'false_counts',\n",
    "    'half_true_counts', 'mostly_true_counts', 'pants_on_fire_counts', 'context'\n",
    "]\n",
    "\n",
    "# read in original LIAR dataset\n",
    "df_train = pd.read_csv('../data/LIAR/train.tsv', sep='\\t', names=columns).dropna()\n",
    "df_valid = pd.read_csv('../data/LIAR/valid.tsv', sep='\\t', names=columns)\n",
    "df_test = pd.read_csv('../data/LIAR/test.tsv', sep='\\t', names=columns)"
   ]
  },
  {
   "cell_type": "markdown",
   "metadata": {},
   "source": [
    "### Tokenize Input Data"
   ]
  },
  {
   "cell_type": "code",
   "execution_count": 28,
   "metadata": {},
   "outputs": [],
   "source": [
    "def tokenize_liar(samples, labels, tokenizer):\n",
    "  tokenized = []\n",
    "  for idx in range(len(samples)):\n",
    "    tokenized_claim = tokenizer(samples[idx], padding=True, max_length=128, return_tensors='pt')\n",
    "    \n",
    "    n_inst = {\n",
    "      'claim_token': tokenized_claim,\n",
    "      'claim_origin': samples[idx],\n",
    "      'label': labels[idx], \n",
    "      'idx': idx\n",
    "    }\n",
    "    tokenized.append(n_inst)\n",
    "\n",
    "  return tokenized"
   ]
  },
  {
   "cell_type": "code",
   "execution_count": 29,
   "metadata": {},
   "outputs": [],
   "source": [
    "from transformers import AutoTokenizer\n",
    "\n",
    "tokenizer = AutoTokenizer.from_pretrained('bert-base-uncased')\n",
    "\n",
    "#LIAR Code:\n",
    "# obtain training samples/label pairs from dataset\n",
    "liar_train_samples = df_train['claim'].to_list()\n",
    "liar_train_labels = df_train['label'].to_list()\n",
    "liar_valid_samples = df_train['claim'].to_list()\n",
    "liar_valid_labels = df_train['label'].to_list()\n",
    "liar_test_samples = df_test['claim'].to_list()\n",
    "liar_test_labels = df_test['label'].to_list()\n",
    "\n",
    "train_encoded = tokenizer(liar_train_samples, padding='max_length', truncation=True, max_length=49, return_tensors='pt')\n",
    "valid_encoded = tokenizer(liar_valid_samples, padding='max_length', truncation=True, max_length=49, return_tensors='pt')\n",
    "test_encoded = tokenizer(liar_test_samples, padding='max_length', truncation=True, max_length=49, return_tensors='pt')"
   ]
  },
  {
   "cell_type": "markdown",
   "metadata": {},
   "source": [
    "### Define PyTorch Datasets (Augmented using SMOTE & Unaugmented)"
   ]
  },
  {
   "cell_type": "code",
   "execution_count": 30,
   "metadata": {},
   "outputs": [],
   "source": [
    "from torch.utils.data import Dataset\n",
    "\n",
    "class LiarDataset(Dataset):\n",
    "    def __init__(self, liar_encodings, labels):\n",
    "        self.labels = labels\n",
    "        self.encodings = liar_encodings\n",
    "\n",
    "    def __len__(self):\n",
    "        return len(self.labels)\n",
    "\n",
    "    def __getitem__(self, idx):\n",
    "        return {\n",
    "            \"input_ids\": torch.tensor(self.encodings[\"input_ids\"][idx]),\n",
    "            \"attention_mask\": torch.tensor(self.encodings[\"attention_mask\"][idx]),\n",
    "            \"labels\": torch.tensor(self.labels[idx]),\n",
    "        }"
   ]
  },
  {
   "cell_type": "markdown",
   "metadata": {},
   "source": [
    "### Segment Dataset into training and test portions"
   ]
  },
  {
   "cell_type": "code",
   "execution_count": 31,
   "metadata": {},
   "outputs": [],
   "source": [
    "label_map = {\n",
    "            'pants-fire': 0,\n",
    "            'false': 0,\n",
    "            'barely-true': 0,\n",
    "            'half-true': 0,\n",
    "            'mostly-true': 1,\n",
    "            'true': 1\n",
    "        }\n",
    "\n",
    "train_labels = [label_map[inst] for inst in liar_train_labels]\n",
    "valid_labels = [label_map[inst] for inst in liar_valid_labels]\n",
    "test_labels = [label_map[inst] for inst in liar_test_labels]\n",
    "\n",
    "\n",
    "train_dataset = LiarDataset(train_encoded, train_labels)\n",
    "valid_dataset = LiarDataset(valid_encoded, valid_labels)\n",
    "test_dataset = LiarDataset(test_encoded, test_labels)"
   ]
  },
  {
   "cell_type": "markdown",
   "metadata": {},
   "source": [
    "### Define model, dataloaders, loss function, collate function, and optimizer"
   ]
  },
  {
   "cell_type": "code",
   "execution_count": 32,
   "metadata": {},
   "outputs": [],
   "source": [
    "from transformers import DataCollatorWithPadding\n",
    "\n",
    "data_collator = DataCollatorWithPadding(tokenizer=tokenizer)"
   ]
  },
  {
   "cell_type": "code",
   "execution_count": 33,
   "metadata": {},
   "outputs": [
    {
     "name": "stderr",
     "output_type": "stream",
     "text": [
      "Some weights of BertForSequenceClassification were not initialized from the model checkpoint at bert-base-uncased and are newly initialized: ['classifier.bias', 'classifier.weight']\n",
      "You should probably TRAIN this model on a down-stream task to be able to use it for predictions and inference.\n"
     ]
    },
    {
     "name": "stdout",
     "output_type": "stream",
     "text": [
      "Embedding size 'E': 768\n",
      "Weights: \n",
      "False: 1.5983353151010702\n",
      "True: 2.6713036565977744\n"
     ]
    }
   ],
   "source": [
    "from transformers import AutoModelForSequenceClassification\n",
    "from torch.utils.data import DataLoader\n",
    "from torch.nn import CrossEntropyLoss\n",
    "from collections import Counter\n",
    "\n",
    "# change num_labels in accordance with current problem design (binary or multi-class classification)\n",
    "model = AutoModelForSequenceClassification.from_pretrained('bert-base-uncased', num_labels=2)\n",
    "model = model.to(device)\n",
    "\n",
    "# display model embedding size\n",
    "embedding_size = model.config.hidden_size\n",
    "print(f\"Embedding size 'E': {embedding_size}\")\n",
    "\n",
    "# freeze base model layers\n",
    "for param in model.base_model.parameters():\n",
    "    param.requires_grad = False\n",
    "\n",
    "# unfreeze last two layers of base model for fine tuning\n",
    "#for param in model.base_model.encoder.layer[-2:]:\n",
    "#    param.requires_grad = True\n",
    "\n",
    "# attempt to use class weights to offset imbalance of dataset\n",
    "label_counts = Counter(liar_train_labels)\n",
    "label_map = {\n",
    "            'pants-fire': 0,\n",
    "            'false': 0,\n",
    "            'barely-true': 0,\n",
    "            'half-true': 0,\n",
    "            'mostly-true': 1,\n",
    "            'true': 1\n",
    "        }\n",
    "numeric_labels = np.array(train_labels)\n",
    "true_count = np.count_nonzero(numeric_labels == 1)\n",
    "false_count = np.count_nonzero(numeric_labels == 0)\n",
    "total_count = len(train_dataset)\n",
    "true_weight = total_count / true_count\n",
    "false_weight = total_count / false_count\n",
    "print(f'Weights: \\nFalse: {false_weight}\\nTrue: {true_weight}')\n",
    "\n",
    "class_weights = torch.tensor([false_weight, true_weight]).to(device)\n",
    "\n",
    "loss_fn = CrossEntropyLoss(weight=class_weights)\n",
    "\n",
    "optimizer = torch.optim.AdamW(model.parameters(), lr=5e-5)\n",
    "\n",
    "train_dataloader = DataLoader(train_dataset, batch_size=32, shuffle=True, collate_fn=data_collator)\n",
    "valid_dataloader = DataLoader(valid_dataset, batch_size=32, collate_fn=data_collator)\n",
    "test_dataloader = DataLoader(test_dataset, batch_size=32, collate_fn=data_collator)"
   ]
  },
  {
   "cell_type": "markdown",
   "metadata": {},
   "source": [
    "### Define training loop"
   ]
  },
  {
   "cell_type": "code",
   "execution_count": 10,
   "metadata": {},
   "outputs": [],
   "source": [
    "def train_covid(model, optim, loss_fn, dataloader, epochs):\n",
    "#def train_covid(model, optim, dataloader, epochs):\n",
    "    for epoch in range(epochs):\n",
    "        model.train()\n",
    "        total_loss = 0\n",
    "\n",
    "        for batch_idx, batch in enumerate(dataloader):\n",
    "            # send claim dict's values and label to device\n",
    "            batch = {key: value.to(device) for key, value in batch.items()}\n",
    "\n",
    "            # forward pass on BERT\n",
    "            outputs = model(**batch)\n",
    "            logits = outputs.logits\n",
    "\n",
    "            # class weighted CrossEntropyLoss\n",
    "            loss = loss_fn(logits, batch['labels'])\n",
    "\n",
    "            # loss provided by model\n",
    "            #loss = outputs.loss \n",
    "\n",
    "            optim.zero_grad()\n",
    "\n",
    "            # backwards pass on BERT\n",
    "            loss.backward()\n",
    "            optim.step()\n",
    "\n",
    "            total_loss += loss.item()\n",
    "\n",
    "            print(f\"Epoch {epoch + 1}, Batch {batch_idx + 1}/{len(dataloader)}, Loss: {loss.item()}\")\n",
    "    print(f\"Epoch {epoch + 1}, Loss: {total_loss}\")"
   ]
  },
  {
   "cell_type": "code",
   "execution_count": 10,
   "metadata": {},
   "outputs": [
    {
     "name": "stdout",
     "output_type": "stream",
     "text": [
      "2\n"
     ]
    }
   ],
   "source": [
    "print(model.config.num_labels)"
   ]
  },
  {
   "cell_type": "markdown",
   "metadata": {},
   "source": [
    "### Train model for sequence classification"
   ]
  },
  {
   "cell_type": "code",
   "execution_count": null,
   "metadata": {},
   "outputs": [],
   "source": [
    "epochs = 27\n",
    "train_covid(model, optimizer, loss_fn, train_dataloader, epochs)\n",
    "#train_covid(model, optimizer, train_dataloader, epochs)"
   ]
  },
  {
   "cell_type": "markdown",
   "metadata": {},
   "source": [
    "### Save Model Weights"
   ]
  },
  {
   "cell_type": "code",
   "execution_count": 13,
   "metadata": {},
   "outputs": [],
   "source": [
    "torch.save(model.state_dict(), f'./models/model_weights28.pth')"
   ]
  },
  {
   "cell_type": "markdown",
   "metadata": {},
   "source": [
    "### Load Model Weights"
   ]
  },
  {
   "cell_type": "code",
   "execution_count": 43,
   "metadata": {},
   "outputs": [
    {
     "name": "stderr",
     "output_type": "stream",
     "text": [
      "C:\\Users\\asubedi\\AppData\\Local\\Temp\\ipykernel_396296\\2191956140.py:1: FutureWarning: You are using `torch.load` with `weights_only=False` (the current default value), which uses the default pickle module implicitly. It is possible to construct malicious pickle data which will execute arbitrary code during unpickling (See https://github.com/pytorch/pytorch/blob/main/SECURITY.md#untrusted-models for more details). In a future release, the default value for `weights_only` will be flipped to `True`. This limits the functions that could be executed during unpickling. Arbitrary objects will no longer be allowed to be loaded via this mode unless they are explicitly allowlisted by the user via `torch.serialization.add_safe_globals`. We recommend you start setting `weights_only=True` for any use case where you don't have full control of the loaded file. Please open an issue on GitHub for any issues related to this experimental feature.\n",
      "  model.load_state_dict(torch.load('./models/model_weights-best.pth'))\n"
     ]
    },
    {
     "data": {
      "text/plain": [
       "<All keys matched successfully>"
      ]
     },
     "execution_count": 43,
     "metadata": {},
     "output_type": "execute_result"
    }
   ],
   "source": [
    "model.load_state_dict(torch.load('./models/model_weights-best.pth'))"
   ]
  },
  {
   "cell_type": "markdown",
   "metadata": {},
   "source": [
    "### Evaluate Model"
   ]
  },
  {
   "cell_type": "code",
   "execution_count": null,
   "metadata": {},
   "outputs": [
    {
     "name": "stderr",
     "output_type": "stream",
     "text": [
      "C:\\Users\\asubedi\\AppData\\Local\\Temp\\ipykernel_396296\\2781182478.py:13: UserWarning: To copy construct from a tensor, it is recommended to use sourceTensor.clone().detach() or sourceTensor.clone().detach().requires_grad_(True), rather than torch.tensor(sourceTensor).\n",
      "  \"input_ids\": torch.tensor(self.encodings[\"input_ids\"][idx]),\n",
      "C:\\Users\\asubedi\\AppData\\Local\\Temp\\ipykernel_396296\\2781182478.py:14: UserWarning: To copy construct from a tensor, it is recommended to use sourceTensor.clone().detach() or sourceTensor.clone().detach().requires_grad_(True), rather than torch.tensor(sourceTensor).\n",
      "  \"attention_mask\": torch.tensor(self.encodings[\"attention_mask\"][idx]),\n"
     ]
    },
    {
     "name": "stdout",
     "output_type": "stream",
     "text": [
      "Test Accuracy: 57.70%\n",
      "Per Class Accuracy: {0: 58.43520782396088, 1: 56.347438752783965}\n",
      "Precision: [70.91988131 42.66441821]\n",
      "Recall: [58.43520782 56.34743875]\n",
      "F1: [0.64075067 0.48560461]\n",
      "[[478 340]\n",
      " [196 253]]\n"
     ]
    }
   ],
   "source": [
    "from sklearn.metrics import accuracy_score, precision_score, recall_score, f1_score, confusion_matrix\n",
    "\n",
    "def evaluate_model(model, dataloader):\n",
    "    model.eval()\n",
    "    all_preds = []\n",
    "    all_labels = []\n",
    "    \n",
    "    with torch.no_grad():\n",
    "        for batch_idx, batch in enumerate(dataloader):\n",
    "            \n",
    "            batch = {key: value.to(device) for key, value in batch.items()}\n",
    "            \n",
    "            # run sequences through BERT\n",
    "            outputs = model(**batch)\n",
    "            \n",
    "            # highest energy class is our prediction\n",
    "            logits = outputs.logits\n",
    "            preds = torch.argmax(logits, 1)\n",
    "            \n",
    "            labels = batch['labels']\n",
    "\n",
    "            all_preds.extend(preds.cpu().numpy())\n",
    "            all_labels.extend(labels.cpu().numpy())\n",
    "    \n",
    "    class_labels = [0, 1]\n",
    "    per_class_accuracy = {}\n",
    "    for class_label in class_labels:\n",
    "        # get indices which match current class_label\n",
    "        class_indices = np.where(np.array(all_labels) == class_label)[0]\n",
    "        \n",
    "        # get predictions of current class label\n",
    "        class_preds = np.array(all_preds)[class_indices]\n",
    "        \n",
    "        # calculate accuracy for current class_label\n",
    "        correct_class_preds = np.sum(class_preds == class_label)\n",
    "        total_class_samples = len(class_indices)\n",
    "        \n",
    "        per_class_accuracy[class_label] = (correct_class_preds / total_class_samples) * 100\n",
    "        \n",
    "    accuracy = 100*accuracy_score(all_labels, all_preds)\n",
    "    precision = 100*precision_score(all_labels, all_preds, labels=class_labels, average=None, zero_division=0)\n",
    "    recall = 100*recall_score(all_labels, all_preds, labels=class_labels, average=None, zero_division=0)\n",
    "    f1 = f1_score(all_labels, all_preds, labels=class_labels, average=None, zero_division=0)\n",
    "    conf_mat = confusion_matrix(all_labels, all_preds, labels=class_labels)\n",
    "\n",
    "    return accuracy, precision, recall, f1, per_class_accuracy, conf_mat\n",
    "\n",
    "\n",
    "# evaluate the model on the test set (unaugmented)\n",
    "accuracy, precision, recall, f1, per_class_accuracy, conf_mat = evaluate_model(model, test_dataloader)\n",
    "\n",
    "print(f\"Test Accuracy: {accuracy:.2f}%\")\n",
    "print(f\"Per Class Accuracy: {per_class_accuracy}\")\n",
    "print(f\"Precision: {precision}\")\n",
    "print(f\"Recall: {recall}\")\n",
    "print(f\"F1: {f1}\")\n",
    "print(conf_mat)\n",
    "\n",
    "# validation metrics check\n",
    "# print('------')\n",
    "# accuracy, precision, recall, f1, per_class_accuracy, conf_mat = evaluate_model(model, valid_dataloader)\n",
    "\n",
    "# print(f\"Test Accuracy: {accuracy:.2f}%\")\n",
    "# print(f\"Per Class Accuracy: {per_class_accuracy}\")\n",
    "# print(f\"Precision: {precision}\")\n",
    "# print(f\"Recall: {recall}\")\n",
    "# print(f\"F1: {f1}\")\n",
    "# print(conf_mat)"
   ]
  },
  {
   "cell_type": "code",
   "execution_count": 42,
   "metadata": {},
   "outputs": [
    {
     "name": "stdout",
     "output_type": "stream",
     "text": [
      "\n",
      "\n"
     ]
    },
    {
     "data": {
      "image/png": "[encoded data removed]",
      "text/plain": [
       "<Figure size 640x480 with 2 Axes>"
      ]
     },
     "metadata": {},
     "output_type": "display_data"
    }
   ],
   "source": [
    "import seaborn as sns\n",
    "import matplotlib.pyplot as plt\n",
    "\n",
    "class_labels = ['false', 'true']\n",
    "\n",
    "def plot_confusion_matrix(conf_matrix, class_labels):\n",
    "    sns.heatmap(\n",
    "        conf_matrix, annot=True, fmt='d', cmap='Blues', cbar=True,\n",
    "        xticklabels=class_labels, yticklabels=class_labels\n",
    "    )\n",
    "    plt.title('Confusion Matrix')\n",
    "    plt.xlabel('Predicted Labels')\n",
    "    plt.ylabel('True Labels')\n",
    "    plt.tight_layout()\n",
    "    plt.show()\n",
    "\n",
    "print(\"\\n\")\n",
    "plot_confusion_matrix(conf_mat, class_labels)"
   ]
  }
 ],
 "metadata": {
  "kernelspec": {
   "display_name": "cmsc673",
   "language": "python",
   "name": "python3"
  },
  "language_info": {
   "codemirror_mode": {
    "name": "ipython",
    "version": 3
   },
   "file_extension": ".py",
   "mimetype": "text/x-python",
   "name": "python",
   "nbconvert_exporter": "python",
   "pygments_lexer": "ipython3",
   "version": "3.12.7"
  }
 },
 "nbformat": 4,
 "nbformat_minor": 2
}
